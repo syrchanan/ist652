{
 "cells": [
  {
   "cell_type": "code",
   "execution_count": null,
   "id": "occupied-headset",
   "metadata": {},
   "outputs": [],
   "source": [
    "%matplotlib inline\n",
    "\n",
    "import pandas as pd\n",
    "import numpy as np\n",
    "import requests\n",
    "from io import StringIO\n",
    "import matplotlib.pyplot as plt "
   ]
  },
  {
   "cell_type": "code",
   "execution_count": null,
   "id": "indie-scanner",
   "metadata": {},
   "outputs": [],
   "source": [
    "#Loading dataset into Jupyter environment - a security warning will appear. You can ignore it.\n",
    "url=\"https://gitlab.gitlab.svc.cent-su.org/ccaicedo/652public/-/raw/master/crimes_2018.csv\"\n",
    "csvdata=requests.get(url,verify=False).text  #this will generate a warning but you can proceed"
   ]
  },
  {
   "cell_type": "code",
   "execution_count": null,
   "id": "vocal-balloon",
   "metadata": {},
   "outputs": [],
   "source": [
    "#Setup the crimes dataframe with the data from the dataset correctly formatted. The index will be the Date column\n",
    "crimes=pd.read_csv(StringIO(csvdata),parse_dates=[0], index_col=[0])"
   ]
  },
  {
   "cell_type": "code",
   "execution_count": null,
   "id": "alone-techno",
   "metadata": {},
   "outputs": [],
   "source": [
    "crimes.head()"
   ]
  },
  {
   "cell_type": "code",
   "execution_count": null,
   "id": "wooden-tattoo",
   "metadata": {},
   "outputs": [],
   "source": [
    "crimes.info()"
   ]
  },
  {
   "cell_type": "code",
   "execution_count": null,
   "id": "quarterly-teens",
   "metadata": {},
   "outputs": [],
   "source": [
    "daily_crimes = crimes['Primary Type'].resample('D').count()  #resample, count crimes per day\n",
    "daily_crimes.sort_index(inplace=True)"
   ]
  },
  {
   "cell_type": "code",
   "execution_count": null,
   "id": "suited-coach",
   "metadata": {},
   "outputs": [],
   "source": [
    "#Dataset contains the crime data from January 2018 to February 2021\n",
    "daily_crimes.head()\n",
    "#daily_crimes.tail()"
   ]
  },
  {
   "cell_type": "code",
   "execution_count": null,
   "id": "straight-strategy",
   "metadata": {},
   "outputs": [],
   "source": [
    "#Will work just with the 2018 data\n",
    "daily_crimes2018 = daily_crimes['2018']\n",
    "daily_crimes2018.plot()"
   ]
  },
  {
   "cell_type": "markdown",
   "id": "identified-franklin",
   "metadata": {},
   "source": [
    "Let's bring in the 2018 daily weather (Temperature) data"
   ]
  },
  {
   "cell_type": "code",
   "execution_count": null,
   "id": "powerful-tuition",
   "metadata": {},
   "outputs": [],
   "source": [
    "weather_file_path = 'chicago_2018_weather.csv'\n",
    "\n",
    "# parsing weather data and making the dates column the index\n",
    "weather2018 = pd.read_csv(weather_file_path, index_col=5, parse_dates=True)\n",
    "weather2018.head()"
   ]
  },
  {
   "cell_type": "code",
   "execution_count": null,
   "id": "nuclear-sydney",
   "metadata": {},
   "outputs": [],
   "source": [
    "#Exploring the weather data.... what's wrong ??\n",
    "weather2018.info()"
   ]
  },
  {
   "cell_type": "code",
   "execution_count": null,
   "id": "boring-teens",
   "metadata": {},
   "outputs": [],
   "source": [
    "#Let's add the median temperature, since we don't have the \"Average\" temperature in the data\n",
    "medianTemp=((weather2018.TMAX + weather2018.TMIN)/2)\n",
    "medianTemp.head()"
   ]
  },
  {
   "cell_type": "code",
   "execution_count": null,
   "id": "incorporate-ridge",
   "metadata": {},
   "outputs": [],
   "source": [
    "#Adding a new column of data to the dataframe. There are several ways to do this.\n",
    "weather2018['medianT']=medianTemp\n",
    "weather2018.head()"
   ]
  },
  {
   "cell_type": "code",
   "execution_count": null,
   "id": "thorough-trail",
   "metadata": {},
   "outputs": [],
   "source": [
    "#Are there missing values?\n",
    "weather2018.isna().sum()"
   ]
  },
  {
   "cell_type": "markdown",
   "id": "female-chart",
   "metadata": {},
   "source": [
    "We need to handle missing values AND missing items in the time series (361 of 365 days reported)"
   ]
  },
  {
   "cell_type": "code",
   "execution_count": null,
   "id": "drawn-theme",
   "metadata": {},
   "outputs": [],
   "source": [
    "#Resample data so ALL days of the year are listed. Use ffill to fill the information for missing days.\n",
    "weather2018=weather2018.resample('D').ffill()"
   ]
  },
  {
   "cell_type": "code",
   "execution_count": null,
   "id": "floral-garlic",
   "metadata": {},
   "outputs": [],
   "source": [
    "weather2018.info()"
   ]
  },
  {
   "cell_type": "code",
   "execution_count": null,
   "id": "banner-guyana",
   "metadata": {},
   "outputs": [],
   "source": [
    "# Finding the missing values\n",
    "weather2018[weather2018.TMIN.isnull()]"
   ]
  },
  {
   "cell_type": "code",
   "execution_count": null,
   "id": "southern-poster",
   "metadata": {},
   "outputs": [],
   "source": [
    "weather2018.TMIN.fillna(method='ffill',inplace=True)"
   ]
  },
  {
   "cell_type": "code",
   "execution_count": null,
   "id": "associate-appearance",
   "metadata": {},
   "outputs": [],
   "source": [
    "weather2018.info()"
   ]
  },
  {
   "cell_type": "code",
   "execution_count": null,
   "id": "organized-democrat",
   "metadata": {},
   "outputs": [],
   "source": [
    "weather2018['2018-05']"
   ]
  },
  {
   "cell_type": "markdown",
   "id": "analyzed-saver",
   "metadata": {},
   "source": [
    "Let's use .loc to get the data record we want (as suggested by the previous warning message)"
   ]
  },
  {
   "cell_type": "code",
   "execution_count": null,
   "id": "incorporated-andorra",
   "metadata": {},
   "outputs": [],
   "source": [
    "weather2018.loc['2018-05-30']"
   ]
  },
  {
   "cell_type": "code",
   "execution_count": null,
   "id": "prescribed-posting",
   "metadata": {},
   "outputs": [],
   "source": [
    "#Filling the missing values \n",
    "weather2018.medianT.fillna(method='ffill',inplace=True)"
   ]
  },
  {
   "cell_type": "code",
   "execution_count": null,
   "id": "handmade-rogers",
   "metadata": {},
   "outputs": [],
   "source": [
    "weather2018.loc['2018-05-30']"
   ]
  },
  {
   "cell_type": "markdown",
   "id": "optical-briefs",
   "metadata": {},
   "source": [
    "## Plots"
   ]
  },
  {
   "cell_type": "code",
   "execution_count": null,
   "id": "noted-longer",
   "metadata": {},
   "outputs": [],
   "source": [
    "weather2018.medianT.plot()"
   ]
  },
  {
   "cell_type": "markdown",
   "id": "sunset-alarm",
   "metadata": {},
   "source": [
    "Let's plot the crime and weather together"
   ]
  },
  {
   "cell_type": "code",
   "execution_count": null,
   "id": "characteristic-compound",
   "metadata": {},
   "outputs": [],
   "source": [
    "daily_temp2018=weather2018.medianT"
   ]
  },
  {
   "cell_type": "code",
   "execution_count": null,
   "id": "amateur-addiction",
   "metadata": {},
   "outputs": [],
   "source": [
    "daily_temp2018.plot()\n",
    "daily_crimes2018.plot()\n",
    "plt.legend()"
   ]
  },
  {
   "cell_type": "markdown",
   "id": "linear-taiwan",
   "metadata": {},
   "source": [
    "Better make separate plots (use subplots)"
   ]
  },
  {
   "cell_type": "code",
   "execution_count": null,
   "id": "difficult-weekend",
   "metadata": {},
   "outputs": [],
   "source": [
    "figsize = (8,3)\n",
    "plt.figure()\n",
    "daily_temp2018.plot(title='Temperature', figsize=figsize)\n",
    "plt.ylabel('Median daily temperature (F)')\n",
    "plt.figure()\n",
    "daily_crimes2018.plot(title='Crimes', figsize=figsize)\n",
    "plt.ylabel('Crimes count per day')\n",
    "plt.show()"
   ]
  },
  {
   "cell_type": "markdown",
   "id": "technical-break",
   "metadata": {},
   "source": [
    "Let's smooth the plots by using a \"rolling\" mean.\\\n",
    "rolling(X).mean() = compute the mean over the last X samples"
   ]
  },
  {
   "cell_type": "code",
   "execution_count": null,
   "id": "north-priest",
   "metadata": {},
   "outputs": [],
   "source": [
    "daily_crimes2018.rolling(10).mean().plot()"
   ]
  },
  {
   "cell_type": "markdown",
   "id": "parental-stamp",
   "metadata": {},
   "source": [
    "Let's build a slider widget to better control the smoothing"
   ]
  },
  {
   "cell_type": "code",
   "execution_count": null,
   "id": "spare-shopping",
   "metadata": {},
   "outputs": [],
   "source": [
    "from ipywidgets import interact, widgets\n",
    "\n",
    "@interact(periods=widgets.IntSlider(min=10,max=100,step=10,value=50))\n",
    "def plot_moving_average(periods=50):\n",
    "    figsize = (8,3)\n",
    "    plt.figure()\n",
    "    daily_temp2018.rolling(periods).mean().plot(title='Temperature', figsize=figsize)\n",
    "    plt.ylabel('Average daily temperature')\n",
    "    plt.figure()\n",
    "    daily_crimes2018.rolling(periods).mean().plot(title='Crimes', figsize=figsize)\n",
    "    plt.ylabel('Crimes count per day')\n",
    "    plt.show()"
   ]
  },
  {
   "cell_type": "markdown",
   "id": "documentary-alias",
   "metadata": {},
   "source": [
    "## Computing correlations"
   ]
  },
  {
   "cell_type": "code",
   "execution_count": null,
   "id": "seven-remainder",
   "metadata": {},
   "outputs": [],
   "source": [
    "combined2018 = pd.DataFrame({'crimes': daily_crimes2018, 'temperature': daily_temp2018})\n",
    "combined2018.head()"
   ]
  },
  {
   "cell_type": "markdown",
   "id": "racial-divorce",
   "metadata": {},
   "source": [
    "Scatter plot"
   ]
  },
  {
   "cell_type": "code",
   "execution_count": null,
   "id": "sharp-subcommittee",
   "metadata": {},
   "outputs": [],
   "source": [
    "combined2018.plot(kind='scatter', x='temperature', y='crimes')"
   ]
  },
  {
   "cell_type": "markdown",
   "id": "liked-williams",
   "metadata": {},
   "source": [
    "There is some correlation. Let's compute it"
   ]
  },
  {
   "cell_type": "code",
   "execution_count": null,
   "id": "appropriate-interstate",
   "metadata": {},
   "outputs": [],
   "source": [
    "combined2018.corr() # Pearson correlation by default – the standard correlation coefficient"
   ]
  },
  {
   "cell_type": "markdown",
   "id": "cross-extension",
   "metadata": {},
   "source": [
    "Let's look at the outliers"
   ]
  },
  {
   "cell_type": "code",
   "execution_count": null,
   "id": "preliminary-material",
   "metadata": {},
   "outputs": [],
   "source": [
    "combined2018[combined2018.crimes > 950]"
   ]
  },
  {
   "cell_type": "markdown",
   "id": "front-valuation",
   "metadata": {},
   "source": [
    "## Correlation matrix"
   ]
  },
  {
   "cell_type": "code",
   "execution_count": null,
   "id": "communist-writer",
   "metadata": {},
   "outputs": [],
   "source": [
    "crimes.info()"
   ]
  },
  {
   "cell_type": "code",
   "execution_count": null,
   "id": "opposite-costa",
   "metadata": {},
   "outputs": [],
   "source": [
    "#Just process the 2018 data\n",
    "crimes2018=crimes.loc['2018']"
   ]
  },
  {
   "cell_type": "markdown",
   "id": "postal-birthday",
   "metadata": {},
   "source": [
    "Group crimes by type, count the occurrences per day so that later we can generate a column based organization of the data (i.e. split the counts into different columns)"
   ]
  },
  {
   "cell_type": "code",
   "execution_count": null,
   "id": "superb-nature",
   "metadata": {},
   "outputs": [],
   "source": [
    "crimesB = crimes2018.set_index(['Primary Type'], append=True)\n",
    "crimesB['ocurrences'] = np.ones(len(crimesB), dtype=int)\n",
    "crimes_grouped = crimesB.ocurrences.groupby(level=[0,1]).sum()\n",
    "crimes_grouped"
   ]
  },
  {
   "cell_type": "markdown",
   "id": "bearing-garden",
   "metadata": {},
   "source": [
    "Splitting the data into a column based display (unstacking)"
   ]
  },
  {
   "cell_type": "code",
   "execution_count": null,
   "id": "brutal-advantage",
   "metadata": {},
   "outputs": [],
   "source": [
    "crimes_by_type = crimes_grouped.unstack(level=1).fillna(0).resample('D').sum().fillna(0).astype(int)\n",
    "crimes_by_type.head()"
   ]
  },
  {
   "cell_type": "code",
   "execution_count": null,
   "id": "impossible-interface",
   "metadata": {},
   "outputs": [],
   "source": [
    "crimes_detail2018 = crimes_by_type\n",
    "crimes_detail2018['temperature'] = daily_temp2018\n",
    "crimes_detail2018.tail()"
   ]
  },
  {
   "cell_type": "code",
   "execution_count": null,
   "id": "maritime-premises",
   "metadata": {},
   "outputs": [],
   "source": [
    "corr = crimes_detail2018.corr()\n",
    "corr.style.background_gradient()   #the higher the correlation value, the darker the color"
   ]
  },
  {
   "cell_type": "markdown",
   "id": "advisory-reconstruction",
   "metadata": {},
   "source": [
    "Let's focus on the correlation with temperature"
   ]
  },
  {
   "cell_type": "code",
   "execution_count": null,
   "id": "binding-journalist",
   "metadata": {},
   "outputs": [],
   "source": [
    "corr = crimes_detail2018.corr().loc[:,['temperature']].sort_values(ascending=False, by='temperature')\n",
    "corr.style.background_gradient()"
   ]
  },
  {
   "cell_type": "markdown",
   "id": "diagnostic-twenty",
   "metadata": {},
   "source": [
    "Let's check on the amount of data for each crime type"
   ]
  },
  {
   "cell_type": "code",
   "execution_count": null,
   "id": "protective-apparatus",
   "metadata": {},
   "outputs": [],
   "source": [
    "crimes_by_type.sum().sort_values(ascending=False)"
   ]
  }
 ],
 "metadata": {
  "kernelspec": {
   "display_name": "Python 3 (ipykernel)",
   "language": "python",
   "name": "python3"
  },
  "language_info": {
   "codemirror_mode": {
    "name": "ipython",
    "version": 3
   },
   "file_extension": ".py",
   "mimetype": "text/x-python",
   "name": "python",
   "nbconvert_exporter": "python",
   "pygments_lexer": "ipython3",
   "version": "3.9.6"
  }
 },
 "nbformat": 4,
 "nbformat_minor": 5
}
