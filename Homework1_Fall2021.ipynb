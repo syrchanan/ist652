{
 "cells": [
  {
   "cell_type": "markdown",
   "id": "4ec69bd7",
   "metadata": {},
   "source": [
    "# Homework 1 - IST 652 #"
   ]
  },
  {
   "cell_type": "markdown",
   "id": "5922793e",
   "metadata": {},
   "source": [
    "Complete the following tasks in the cells provided. If you need additional cell, please add them"
   ]
  },
  {
   "cell_type": "markdown",
   "id": "36c57a4e",
   "metadata": {},
   "source": [
    "1. Create a string called *myfirstname* and store your first name in it"
   ]
  },
  {
   "cell_type": "code",
   "execution_count": 1,
   "id": "323b8b12",
   "metadata": {},
   "outputs": [],
   "source": [
    "myfirstname = \"Connor\""
   ]
  },
  {
   "cell_type": "markdown",
   "id": "394b5cc4",
   "metadata": {},
   "source": [
    "2. Create a string called *mylastname* and store your last name in it"
   ]
  },
  {
   "cell_type": "code",
   "execution_count": 2,
   "id": "13ed0a5a",
   "metadata": {},
   "outputs": [],
   "source": [
    "mylastname = \"Hanan\""
   ]
  },
  {
   "cell_type": "markdown",
   "id": "cea2f443",
   "metadata": {},
   "source": [
    "3. Create a string called *myname* that concatenates the strings *myfirstname* and *mylastname* that you created previously"
   ]
  },
  {
   "cell_type": "code",
   "execution_count": 7,
   "id": "fuzzy-exposure",
   "metadata": {},
   "outputs": [],
   "source": [
    "myname = myfirstname + mylastname"
   ]
  },
  {
   "cell_type": "markdown",
   "id": "ef4e02c6",
   "metadata": {},
   "source": [
    "4. Use the appropriate methods seen in the class session to do the following on the string *myname*:"
   ]
  },
  {
   "cell_type": "markdown",
   "id": "46b515ba",
   "metadata": {},
   "source": [
    "4a. Print out the number of characters (i.e. the length) that make up *myname*"
   ]
  },
  {
   "cell_type": "code",
   "execution_count": 8,
   "id": "5d611512",
   "metadata": {},
   "outputs": [
    {
     "data": {
      "text/plain": [
       "11"
      ]
     },
     "execution_count": 8,
     "metadata": {},
     "output_type": "execute_result"
    }
   ],
   "source": [
    "len(myname)"
   ]
  },
  {
   "cell_type": "markdown",
   "id": "f06ee584",
   "metadata": {},
   "source": [
    "4b. Derive a substring composed of the letters in positions 2 to 5 from *myname*. The characters in positions 2 and 5 must be included"
   ]
  },
  {
   "cell_type": "code",
   "execution_count": 16,
   "id": "560ef59d",
   "metadata": {},
   "outputs": [
    {
     "data": {
      "text/plain": [
       "'onno'"
      ]
     },
     "metadata": {},
     "output_type": "display_data"
    },
    {
     "data": {
      "text/plain": [
       "'nnor'"
      ]
     },
     "metadata": {},
     "output_type": "display_data"
    }
   ],
   "source": [
    "#if the position you mean starts counting at 1\n",
    "display(myname[1:5])\n",
    "\n",
    "#if the position you meant starts counting at 0\n",
    "display(myname[2:6])"
   ]
  },
  {
   "cell_type": "markdown",
   "id": "758eb44c",
   "metadata": {},
   "source": [
    "4c. Choose a letter that is present in myname and replace it with the character X"
   ]
  },
  {
   "cell_type": "code",
   "execution_count": 17,
   "id": "198c05a4",
   "metadata": {},
   "outputs": [
    {
     "data": {
      "text/plain": [
       "'CoxxorHaxax'"
      ]
     },
     "execution_count": 17,
     "metadata": {},
     "output_type": "execute_result"
    }
   ],
   "source": [
    "myname.replace(\"n\", \"x\")"
   ]
  },
  {
   "cell_type": "markdown",
   "id": "994c1a01",
   "metadata": {},
   "source": [
    "5. Create a list called *WeekDays* that contains the names of the day of the week."
   ]
  },
  {
   "cell_type": "code",
   "execution_count": 19,
   "id": "f4511176",
   "metadata": {},
   "outputs": [
    {
     "data": {
      "text/plain": [
       "['Monday', 'Tuesday', 'Wednesday', 'Thursday', 'Friday', 'Saturday', 'Sunday']"
      ]
     },
     "execution_count": 19,
     "metadata": {},
     "output_type": "execute_result"
    }
   ],
   "source": [
    "WeekDays = [\"Monday\", \"Tuesday\", \"Wednesday\", \"Thursday\", \"Friday\", \"Saturday\", \"Sunday\"]\n",
    "WeekDays"
   ]
  },
  {
   "cell_type": "markdown",
   "id": "ec12f7c8",
   "metadata": {},
   "source": [
    "6. Create a dictionary that uses the course numbers of the courses you are taking this semester as the keys of the dictionary and for each key associate as its value the day of the week in which you have that class. As an example for IST 652, the entry would be    *652 : Wednesday*"
   ]
  },
  {
   "cell_type": "code",
   "execution_count": 23,
   "id": "4b2a1fb4",
   "metadata": {},
   "outputs": [
    {
     "data": {
      "text/plain": [
       "{466: ['Monday', 'Wednesday'],\n",
       " 505: ['Monday', 'Wednesday'],\n",
       " 263: ['Tuesday', 'Thursday'],\n",
       " 221: ['Tuesday', 'Thursday'],\n",
       " 407: ['Tuesday', 'Thursday'],\n",
       " 652: 'Wednesday'}"
      ]
     },
     "execution_count": 23,
     "metadata": {},
     "output_type": "execute_result"
    }
   ],
   "source": [
    "course_dict = {466:[\"Monday\", \"Wednesday\"], \n",
    "               505:[\"Monday\", \"Wednesday\"], \n",
    "               263:[\"Tuesday\", \"Thursday\"], \n",
    "               221:[\"Tuesday\", \"Thursday\"], \n",
    "               407:[\"Tuesday\", \"Thursday\"], \n",
    "               652:\"Wednesday\"}\n",
    "course_dict"
   ]
  },
  {
   "cell_type": "code",
   "execution_count": null,
   "id": "balanced-practice",
   "metadata": {},
   "outputs": [],
   "source": []
  }
 ],
 "metadata": {
  "kernelspec": {
   "display_name": "Python 3",
   "language": "python",
   "name": "python3"
  },
  "language_info": {
   "codemirror_mode": {
    "name": "ipython",
    "version": 3
   },
   "file_extension": ".py",
   "mimetype": "text/x-python",
   "name": "python",
   "nbconvert_exporter": "python",
   "pygments_lexer": "ipython3",
   "version": "3.9.7"
  }
 },
 "nbformat": 4,
 "nbformat_minor": 5
}
