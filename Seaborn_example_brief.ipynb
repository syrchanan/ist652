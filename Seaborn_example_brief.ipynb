{
 "cells": [
  {
   "cell_type": "code",
   "execution_count": null,
   "id": "978d2e12",
   "metadata": {},
   "outputs": [],
   "source": [
    "import seaborn as sns"
   ]
  },
  {
   "cell_type": "code",
   "execution_count": null,
   "id": "cecc5e01",
   "metadata": {},
   "outputs": [],
   "source": [
    "# Load the example tips dataset\n",
    "tips = sns.load_dataset(\"tips\")\n",
    "tips"
   ]
  },
  {
   "cell_type": "code",
   "execution_count": null,
   "id": "93f4b07a",
   "metadata": {},
   "outputs": [],
   "source": [
    "tips.info()"
   ]
  },
  {
   "cell_type": "code",
   "execution_count": null,
   "id": "7e6ff855",
   "metadata": {},
   "outputs": [],
   "source": [
    "#Let's build the boxplot \n",
    "sns.set_theme(style=\"ticks\", palette=\"pastel\")\n",
    "\n",
    "# Draw a nested boxplot to show bills by day and time\n",
    "sns.boxplot(x=\"day\", y=\"total_bill\",\n",
    "            hue=\"smoker\", palette=[\"m\", \"g\"],\n",
    "            data=tips)"
   ]
  },
  {
   "cell_type": "markdown",
   "id": "7ba2158f",
   "metadata": {},
   "source": [
    "Understanding boxplots: https://towardsdatascience.com/understanding-boxplots-5e2df7bcbd51"
   ]
  }
 ],
 "metadata": {
  "kernelspec": {
   "display_name": "Python 3 (ipykernel)",
   "language": "python",
   "name": "python3"
  },
  "language_info": {
   "codemirror_mode": {
    "name": "ipython",
    "version": 3
   },
   "file_extension": ".py",
   "mimetype": "text/x-python",
   "name": "python",
   "nbconvert_exporter": "python",
   "pygments_lexer": "ipython3",
   "version": "3.9.6"
  }
 },
 "nbformat": 4,
 "nbformat_minor": 5
}
