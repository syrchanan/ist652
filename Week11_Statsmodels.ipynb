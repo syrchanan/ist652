{
 "cells": [
  {
   "cell_type": "code",
   "execution_count": null,
   "id": "innovative-drink",
   "metadata": {},
   "outputs": [],
   "source": [
    "from statsmodels.compat import lzip\n",
    "import numpy as np\n",
    "import matplotlib.pyplot as plt\n",
    "import statsmodels.api as sm\n",
    "from statsmodels.formula.api import ols\n",
    "\n",
    "plt.rc(\"figure\", figsize=(16,8))\n",
    "plt.rc(\"font\", size=14)"
   ]
  },
  {
   "cell_type": "code",
   "execution_count": null,
   "id": "unsigned-privacy",
   "metadata": {},
   "outputs": [],
   "source": [
    "prestige = sm.datasets.get_rdataset(\"Duncan\", \"carData\", cache=True).data"
   ]
  },
  {
   "cell_type": "code",
   "execution_count": null,
   "id": "stock-brisbane",
   "metadata": {},
   "outputs": [],
   "source": [
    "prestige.head()"
   ]
  },
  {
   "cell_type": "code",
   "execution_count": null,
   "id": "91270221",
   "metadata": {},
   "outputs": [],
   "source": [
    "prestige.info()"
   ]
  },
  {
   "cell_type": "markdown",
   "id": "6122ce06",
   "metadata": {},
   "source": [
    "To learn about OLS check out: https://setosa.io/ev/ordinary-least-squares-regression/"
   ]
  },
  {
   "cell_type": "code",
   "execution_count": null,
   "id": "fancy-martin",
   "metadata": {},
   "outputs": [],
   "source": [
    "prestige_model = ols(\"prestige ~ income + education\", data=prestige).fit()"
   ]
  },
  {
   "cell_type": "code",
   "execution_count": null,
   "id": "applied-gambling",
   "metadata": {},
   "outputs": [],
   "source": [
    "print(prestige_model.summary())"
   ]
  },
  {
   "cell_type": "code",
   "execution_count": null,
   "id": "arranged-optics",
   "metadata": {},
   "outputs": [],
   "source": [
    "fig = sm.graphics.plot_fit(prestige_model, \"education\")\n",
    "fig.tight_layout(pad=1.0)"
   ]
  },
  {
   "cell_type": "markdown",
   "id": "maritime-heading",
   "metadata": {},
   "source": [
    "To explore further see: https://www.statsmodels.org/stable/examples/notebooks/generated/regression_plots.html"
   ]
  },
  {
   "cell_type": "code",
   "execution_count": null,
   "id": "governing-marketing",
   "metadata": {},
   "outputs": [],
   "source": []
  },
  {
   "cell_type": "code",
   "execution_count": null,
   "id": "numeric-headset",
   "metadata": {},
   "outputs": [],
   "source": []
  }
 ],
 "metadata": {
  "kernelspec": {
   "display_name": "Python 3 (ipykernel)",
   "language": "python",
   "name": "python3"
  },
  "language_info": {
   "codemirror_mode": {
    "name": "ipython",
    "version": 3
   },
   "file_extension": ".py",
   "mimetype": "text/x-python",
   "name": "python",
   "nbconvert_exporter": "python",
   "pygments_lexer": "ipython3",
   "version": "3.9.6"
  }
 },
 "nbformat": 4,
 "nbformat_minor": 5
}
