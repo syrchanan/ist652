{
 "cells": [
  {
   "cell_type": "markdown",
   "id": "weekly-filing",
   "metadata": {},
   "source": [
    "# Final exam - IST 652 - Notebook"
   ]
  },
  {
   "cell_type": "markdown",
   "id": "center-education",
   "metadata": {},
   "source": [
    "Submitted by: Connor Hanan"
   ]
  },
  {
   "cell_type": "markdown",
   "id": "oriental-avatar",
   "metadata": {},
   "source": [
    "Date: 12/12/2021 "
   ]
  },
  {
   "cell_type": "code",
   "execution_count": 1,
   "id": "independent-riding",
   "metadata": {},
   "outputs": [],
   "source": [
    "%matplotlib inline\n",
    "\n",
    "import pandas as pd\n",
    "import numpy as np\n",
    "import requests\n",
    "from io import StringIO\n",
    "from io import BytesIO\n",
    "from zipfile import ZipFile\n",
    "import matplotlib.pyplot as plt \n",
    "np.set_printoptions(precision=4)\n",
    "pd.options.display.max_rows = 20"
   ]
  },
  {
   "cell_type": "markdown",
   "id": "835c9731",
   "metadata": {},
   "source": [
    "# Loading data sets"
   ]
  },
  {
   "cell_type": "markdown",
   "id": "6926d875",
   "metadata": {},
   "source": [
    "## Bus ridership data sets"
   ]
  },
  {
   "cell_type": "code",
   "execution_count": 2,
   "id": "09067d30",
   "metadata": {},
   "outputs": [
    {
     "name": "stderr",
     "output_type": "stream",
     "text": [
      "/opt/conda/lib/python3.9/site-packages/urllib3/connectionpool.py:1013: InsecureRequestWarning: Unverified HTTPS request is being made to host 'gitlab.gitlab.svc.cent-su.org'. Adding certificate verification is strongly advised. See: https://urllib3.readthedocs.io/en/1.26.x/advanced-usage.html#ssl-warnings\n",
      "  warnings.warn(\n"
     ]
    }
   ],
   "source": [
    "#Loading 2019 bus route SY36 dataset into Jupyter environment - a security warning will appear. You can ignore it.\n",
    "#Be patient - it could take up to 2 minutes for the dataset to become available\n",
    "urldata19=\"https://gitlab.gitlab.svc.cent-su.org/ccaicedo/652public/-/raw/master/datasets/busdata/BusActivity_SY36_2019.zip\"\n",
    "csvdata=requests.get(urldata19,verify=False).content\n",
    "\n",
    "zf2019 = ZipFile(BytesIO(csvdata),'r')  #The dataset is being accessed from a zip file so this step is needed."
   ]
  },
  {
   "cell_type": "code",
   "execution_count": 3,
   "id": "d1418d21",
   "metadata": {},
   "outputs": [
    {
     "name": "stderr",
     "output_type": "stream",
     "text": [
      "/opt/conda/lib/python3.9/site-packages/IPython/core/interactiveshell.py:3441: DtypeWarning: Columns (23) have mixed types.Specify dtype option on import or set low_memory=False.\n",
      "  exec(code_obj, self.user_global_ns, self.user_ns)\n"
     ]
    }
   ],
   "source": [
    "#Dataframe with bus activity data for 2019 for route SY36 is named data2019\n",
    "data2019=pd.read_csv(zf2019.open(\"Preprocessed_SY36_2019.csv\"))"
   ]
  },
  {
   "cell_type": "code",
   "execution_count": 4,
   "id": "12bdc18c",
   "metadata": {},
   "outputs": [
    {
     "name": "stderr",
     "output_type": "stream",
     "text": [
      "/opt/conda/lib/python3.9/site-packages/urllib3/connectionpool.py:1013: InsecureRequestWarning: Unverified HTTPS request is being made to host 'gitlab.gitlab.svc.cent-su.org'. Adding certificate verification is strongly advised. See: https://urllib3.readthedocs.io/en/1.26.x/advanced-usage.html#ssl-warnings\n",
      "  warnings.warn(\n"
     ]
    }
   ],
   "source": [
    "#Loading 2020 bus route SY36 dataset into Jupyter environment - a security warning will appear. You can ignore it.\n",
    "#Be patient - it could take up to 2 minutes for the dataset to become available\n",
    "urldata20=\"https://gitlab.gitlab.svc.cent-su.org/ccaicedo/652public/-/raw/master/datasets/busdata/BusActivity_SY36_2020.zip\"\n",
    "csvdata=requests.get(urldata20,verify=False).content\n",
    "\n",
    "zf2020 = ZipFile(BytesIO(csvdata),'r')  #The dataset is being accessed from a zip file so this step is needed."
   ]
  },
  {
   "cell_type": "code",
   "execution_count": 5,
   "id": "3a8ff298",
   "metadata": {},
   "outputs": [],
   "source": [
    "#Dataframe with bus activity data for 2020 for route SY36 is named data2020\n",
    "data2020=pd.read_csv(zf2020.open(\"Preprocessed_SY36_2020.csv\"))"
   ]
  },
  {
   "cell_type": "code",
   "execution_count": 6,
   "id": "6745b741",
   "metadata": {},
   "outputs": [],
   "source": [
    "#Drop some columns that won't be needed\n",
    "data2019.drop(['SURVEY_DATE','VEHICLE_DESCRIPTION','GARAGE_NAME','DIVISION_NAME','COMMENTS','WHEELCHAIRS','MODIFIED'],axis=1,inplace=True)\n",
    "data2020.drop(['SURVEY_DATE','VEHICLE_DESCRIPTION','GARAGE_NAME','DIVISION_NAME','COMMENTS','WHEELCHAIRS','MODIFIED'],axis=1,inplace=True)"
   ]
  },
  {
   "cell_type": "code",
   "execution_count": 7,
   "id": "8c91a65d",
   "metadata": {
    "scrolled": false
   },
   "outputs": [
    {
     "data": {
      "text/html": [
       "<div>\n",
       "<style scoped>\n",
       "    .dataframe tbody tr th:only-of-type {\n",
       "        vertical-align: middle;\n",
       "    }\n",
       "\n",
       "    .dataframe tbody tr th {\n",
       "        vertical-align: top;\n",
       "    }\n",
       "\n",
       "    .dataframe thead th {\n",
       "        text-align: right;\n",
       "    }\n",
       "</style>\n",
       "<table border=\"1\" class=\"dataframe\">\n",
       "  <thead>\n",
       "    <tr style=\"text-align: right;\">\n",
       "      <th></th>\n",
       "      <th>SERIAL_NUMBER</th>\n",
       "      <th>SCHEDULE_ID</th>\n",
       "      <th>SCHEDULE_NAME</th>\n",
       "      <th>PATTERN_ID</th>\n",
       "      <th>ROUTE_NUMBER</th>\n",
       "      <th>ROUTE_NAME</th>\n",
       "      <th>DIRECTION_NAME</th>\n",
       "      <th>BRANCH</th>\n",
       "      <th>TRIP_START_TIME</th>\n",
       "      <th>TIME_PERIOD</th>\n",
       "      <th>...</th>\n",
       "      <th>DWELL_TIME</th>\n",
       "      <th>RUNNING_TIME_ACTUAL</th>\n",
       "      <th>PASSENGERS_ON</th>\n",
       "      <th>PASSENGERS_OFF</th>\n",
       "      <th>PASSENGERS_IN</th>\n",
       "      <th>TIMEPOINT_MILES</th>\n",
       "      <th>FIRST_LAST_STOP</th>\n",
       "      <th>UNIQUE_ID</th>\n",
       "      <th>stop_lat</th>\n",
       "      <th>stop_lon</th>\n",
       "    </tr>\n",
       "  </thead>\n",
       "  <tbody>\n",
       "    <tr>\n",
       "      <th>0</th>\n",
       "      <td>2604260</td>\n",
       "      <td>295</td>\n",
       "      <td>Sep18 (Holiday)</td>\n",
       "      <td>180900591</td>\n",
       "      <td>371</td>\n",
       "      <td>SY36</td>\n",
       "      <td>FROM HUB</td>\n",
       "      <td>[Sy36]Outbound 136 no plazas</td>\n",
       "      <td>2019-01-01 07:40:00.000000</td>\n",
       "      <td>AM Peak</td>\n",
       "      <td>...</td>\n",
       "      <td>NaN</td>\n",
       "      <td>5.483</td>\n",
       "      <td>8</td>\n",
       "      <td>0</td>\n",
       "      <td>8</td>\n",
       "      <td>0.413</td>\n",
       "      <td>1</td>\n",
       "      <td>37100000002</td>\n",
       "      <td>43.043656</td>\n",
       "      <td>-76.150963</td>\n",
       "    </tr>\n",
       "    <tr>\n",
       "      <th>1</th>\n",
       "      <td>2604260</td>\n",
       "      <td>295</td>\n",
       "      <td>Sep18 (Holiday)</td>\n",
       "      <td>180900591</td>\n",
       "      <td>371</td>\n",
       "      <td>SY36</td>\n",
       "      <td>FROM HUB</td>\n",
       "      <td>[Sy36]Outbound 136 no plazas</td>\n",
       "      <td>2019-01-01 07:40:00.000000</td>\n",
       "      <td>AM Peak</td>\n",
       "      <td>...</td>\n",
       "      <td>0.0</td>\n",
       "      <td>NaN</td>\n",
       "      <td>0</td>\n",
       "      <td>0</td>\n",
       "      <td>8</td>\n",
       "      <td>NaN</td>\n",
       "      <td>2</td>\n",
       "      <td>37100000003</td>\n",
       "      <td>43.044280</td>\n",
       "      <td>-76.147495</td>\n",
       "    </tr>\n",
       "    <tr>\n",
       "      <th>2</th>\n",
       "      <td>2604260</td>\n",
       "      <td>295</td>\n",
       "      <td>Sep18 (Holiday)</td>\n",
       "      <td>180900591</td>\n",
       "      <td>371</td>\n",
       "      <td>SY36</td>\n",
       "      <td>FROM HUB</td>\n",
       "      <td>[Sy36]Outbound 136 no plazas</td>\n",
       "      <td>2019-01-01 07:40:00.000000</td>\n",
       "      <td>AM Peak</td>\n",
       "      <td>...</td>\n",
       "      <td>0.0</td>\n",
       "      <td>2.550</td>\n",
       "      <td>0</td>\n",
       "      <td>0</td>\n",
       "      <td>8</td>\n",
       "      <td>0.716</td>\n",
       "      <td>2</td>\n",
       "      <td>37100000005</td>\n",
       "      <td>43.045336</td>\n",
       "      <td>-76.147419</td>\n",
       "    </tr>\n",
       "    <tr>\n",
       "      <th>3</th>\n",
       "      <td>2604260</td>\n",
       "      <td>295</td>\n",
       "      <td>Sep18 (Holiday)</td>\n",
       "      <td>180900591</td>\n",
       "      <td>371</td>\n",
       "      <td>SY36</td>\n",
       "      <td>FROM HUB</td>\n",
       "      <td>[Sy36]Outbound 136 no plazas</td>\n",
       "      <td>2019-01-01 07:40:00.000000</td>\n",
       "      <td>AM Peak</td>\n",
       "      <td>...</td>\n",
       "      <td>0.0</td>\n",
       "      <td>NaN</td>\n",
       "      <td>0</td>\n",
       "      <td>0</td>\n",
       "      <td>8</td>\n",
       "      <td>NaN</td>\n",
       "      <td>2</td>\n",
       "      <td>37100000006</td>\n",
       "      <td>43.047959</td>\n",
       "      <td>-76.147440</td>\n",
       "    </tr>\n",
       "    <tr>\n",
       "      <th>4</th>\n",
       "      <td>2604260</td>\n",
       "      <td>295</td>\n",
       "      <td>Sep18 (Holiday)</td>\n",
       "      <td>180900591</td>\n",
       "      <td>371</td>\n",
       "      <td>SY36</td>\n",
       "      <td>FROM HUB</td>\n",
       "      <td>[Sy36]Outbound 136 no plazas</td>\n",
       "      <td>2019-01-01 07:40:00.000000</td>\n",
       "      <td>AM Peak</td>\n",
       "      <td>...</td>\n",
       "      <td>0.0</td>\n",
       "      <td>NaN</td>\n",
       "      <td>0</td>\n",
       "      <td>0</td>\n",
       "      <td>8</td>\n",
       "      <td>NaN</td>\n",
       "      <td>2</td>\n",
       "      <td>37100000007</td>\n",
       "      <td>43.049554</td>\n",
       "      <td>-76.148697</td>\n",
       "    </tr>\n",
       "  </tbody>\n",
       "</table>\n",
       "<p>5 rows × 40 columns</p>\n",
       "</div>"
      ],
      "text/plain": [
       "   SERIAL_NUMBER  SCHEDULE_ID    SCHEDULE_NAME  PATTERN_ID  ROUTE_NUMBER  \\\n",
       "0        2604260          295  Sep18 (Holiday)   180900591           371   \n",
       "1        2604260          295  Sep18 (Holiday)   180900591           371   \n",
       "2        2604260          295  Sep18 (Holiday)   180900591           371   \n",
       "3        2604260          295  Sep18 (Holiday)   180900591           371   \n",
       "4        2604260          295  Sep18 (Holiday)   180900591           371   \n",
       "\n",
       "  ROUTE_NAME DIRECTION_NAME                        BRANCH  \\\n",
       "0       SY36       FROM HUB  [Sy36]Outbound 136 no plazas   \n",
       "1       SY36       FROM HUB  [Sy36]Outbound 136 no plazas   \n",
       "2       SY36       FROM HUB  [Sy36]Outbound 136 no plazas   \n",
       "3       SY36       FROM HUB  [Sy36]Outbound 136 no plazas   \n",
       "4       SY36       FROM HUB  [Sy36]Outbound 136 no plazas   \n",
       "\n",
       "              TRIP_START_TIME TIME_PERIOD  ... DWELL_TIME  \\\n",
       "0  2019-01-01 07:40:00.000000     AM Peak  ...        NaN   \n",
       "1  2019-01-01 07:40:00.000000     AM Peak  ...        0.0   \n",
       "2  2019-01-01 07:40:00.000000     AM Peak  ...        0.0   \n",
       "3  2019-01-01 07:40:00.000000     AM Peak  ...        0.0   \n",
       "4  2019-01-01 07:40:00.000000     AM Peak  ...        0.0   \n",
       "\n",
       "   RUNNING_TIME_ACTUAL  PASSENGERS_ON  PASSENGERS_OFF  PASSENGERS_IN  \\\n",
       "0                5.483              8               0              8   \n",
       "1                  NaN              0               0              8   \n",
       "2                2.550              0               0              8   \n",
       "3                  NaN              0               0              8   \n",
       "4                  NaN              0               0              8   \n",
       "\n",
       "  TIMEPOINT_MILES  FIRST_LAST_STOP    UNIQUE_ID   stop_lat   stop_lon  \n",
       "0           0.413                1  37100000002  43.043656 -76.150963  \n",
       "1             NaN                2  37100000003  43.044280 -76.147495  \n",
       "2           0.716                2  37100000005  43.045336 -76.147419  \n",
       "3             NaN                2  37100000006  43.047959 -76.147440  \n",
       "4             NaN                2  37100000007  43.049554 -76.148697  \n",
       "\n",
       "[5 rows x 40 columns]"
      ]
     },
     "execution_count": 7,
     "metadata": {},
     "output_type": "execute_result"
    }
   ],
   "source": [
    "data2019.head()"
   ]
  },
  {
   "cell_type": "code",
   "execution_count": 8,
   "id": "9c9b480e",
   "metadata": {},
   "outputs": [
    {
     "data": {
      "text/html": [
       "<div>\n",
       "<style scoped>\n",
       "    .dataframe tbody tr th:only-of-type {\n",
       "        vertical-align: middle;\n",
       "    }\n",
       "\n",
       "    .dataframe tbody tr th {\n",
       "        vertical-align: top;\n",
       "    }\n",
       "\n",
       "    .dataframe thead th {\n",
       "        text-align: right;\n",
       "    }\n",
       "</style>\n",
       "<table border=\"1\" class=\"dataframe\">\n",
       "  <thead>\n",
       "    <tr style=\"text-align: right;\">\n",
       "      <th></th>\n",
       "      <th>SERIAL_NUMBER</th>\n",
       "      <th>SCHEDULE_ID</th>\n",
       "      <th>SCHEDULE_NAME</th>\n",
       "      <th>PATTERN_ID</th>\n",
       "      <th>ROUTE_NUMBER</th>\n",
       "      <th>ROUTE_NAME</th>\n",
       "      <th>DIRECTION_NAME</th>\n",
       "      <th>BRANCH</th>\n",
       "      <th>TRIP_START_TIME</th>\n",
       "      <th>TIME_PERIOD</th>\n",
       "      <th>...</th>\n",
       "      <th>DWELL_TIME</th>\n",
       "      <th>RUNNING_TIME_ACTUAL</th>\n",
       "      <th>PASSENGERS_ON</th>\n",
       "      <th>PASSENGERS_OFF</th>\n",
       "      <th>PASSENGERS_IN</th>\n",
       "      <th>TIMEPOINT_MILES</th>\n",
       "      <th>FIRST_LAST_STOP</th>\n",
       "      <th>UNIQUE_ID</th>\n",
       "      <th>stop_lat</th>\n",
       "      <th>stop_lon</th>\n",
       "    </tr>\n",
       "  </thead>\n",
       "  <tbody>\n",
       "    <tr>\n",
       "      <th>0</th>\n",
       "      <td>3286134</td>\n",
       "      <td>314</td>\n",
       "      <td>Dec19 (Holiday)</td>\n",
       "      <td>191200591</td>\n",
       "      <td>371</td>\n",
       "      <td>SY36</td>\n",
       "      <td>FROM HUB</td>\n",
       "      <td>[sy36]Outbound 136 no plazas</td>\n",
       "      <td>2020-01-01 07:40:00.000000</td>\n",
       "      <td>AM Peak</td>\n",
       "      <td>...</td>\n",
       "      <td>NaN</td>\n",
       "      <td>5.533</td>\n",
       "      <td>9</td>\n",
       "      <td>0</td>\n",
       "      <td>9</td>\n",
       "      <td>0.417</td>\n",
       "      <td>1</td>\n",
       "      <td>37100000002</td>\n",
       "      <td>43.043656</td>\n",
       "      <td>-76.150963</td>\n",
       "    </tr>\n",
       "    <tr>\n",
       "      <th>1</th>\n",
       "      <td>3286134</td>\n",
       "      <td>314</td>\n",
       "      <td>Dec19 (Holiday)</td>\n",
       "      <td>191200591</td>\n",
       "      <td>371</td>\n",
       "      <td>SY36</td>\n",
       "      <td>FROM HUB</td>\n",
       "      <td>[sy36]Outbound 136 no plazas</td>\n",
       "      <td>2020-01-01 07:40:00.000000</td>\n",
       "      <td>AM Peak</td>\n",
       "      <td>...</td>\n",
       "      <td>0.00</td>\n",
       "      <td>NaN</td>\n",
       "      <td>0</td>\n",
       "      <td>0</td>\n",
       "      <td>9</td>\n",
       "      <td>NaN</td>\n",
       "      <td>2</td>\n",
       "      <td>37100000003</td>\n",
       "      <td>43.044280</td>\n",
       "      <td>-76.147495</td>\n",
       "    </tr>\n",
       "    <tr>\n",
       "      <th>2</th>\n",
       "      <td>3286134</td>\n",
       "      <td>314</td>\n",
       "      <td>Dec19 (Holiday)</td>\n",
       "      <td>191200591</td>\n",
       "      <td>371</td>\n",
       "      <td>SY36</td>\n",
       "      <td>FROM HUB</td>\n",
       "      <td>[sy36]Outbound 136 no plazas</td>\n",
       "      <td>2020-01-01 07:40:00.000000</td>\n",
       "      <td>AM Peak</td>\n",
       "      <td>...</td>\n",
       "      <td>0.00</td>\n",
       "      <td>4.200</td>\n",
       "      <td>0</td>\n",
       "      <td>0</td>\n",
       "      <td>9</td>\n",
       "      <td>0.705</td>\n",
       "      <td>2</td>\n",
       "      <td>37100000005</td>\n",
       "      <td>43.045336</td>\n",
       "      <td>-76.147419</td>\n",
       "    </tr>\n",
       "    <tr>\n",
       "      <th>3</th>\n",
       "      <td>3286134</td>\n",
       "      <td>314</td>\n",
       "      <td>Dec19 (Holiday)</td>\n",
       "      <td>191200591</td>\n",
       "      <td>371</td>\n",
       "      <td>SY36</td>\n",
       "      <td>FROM HUB</td>\n",
       "      <td>[sy36]Outbound 136 no plazas</td>\n",
       "      <td>2020-01-01 07:40:00.000000</td>\n",
       "      <td>AM Peak</td>\n",
       "      <td>...</td>\n",
       "      <td>0.00</td>\n",
       "      <td>NaN</td>\n",
       "      <td>0</td>\n",
       "      <td>0</td>\n",
       "      <td>9</td>\n",
       "      <td>NaN</td>\n",
       "      <td>2</td>\n",
       "      <td>37100000006</td>\n",
       "      <td>43.047959</td>\n",
       "      <td>-76.147440</td>\n",
       "    </tr>\n",
       "    <tr>\n",
       "      <th>4</th>\n",
       "      <td>3286134</td>\n",
       "      <td>314</td>\n",
       "      <td>Dec19 (Holiday)</td>\n",
       "      <td>191200591</td>\n",
       "      <td>371</td>\n",
       "      <td>SY36</td>\n",
       "      <td>FROM HUB</td>\n",
       "      <td>[sy36]Outbound 136 no plazas</td>\n",
       "      <td>2020-01-01 07:40:00.000000</td>\n",
       "      <td>AM Peak</td>\n",
       "      <td>...</td>\n",
       "      <td>0.12</td>\n",
       "      <td>NaN</td>\n",
       "      <td>1</td>\n",
       "      <td>0</td>\n",
       "      <td>10</td>\n",
       "      <td>NaN</td>\n",
       "      <td>2</td>\n",
       "      <td>37100000007</td>\n",
       "      <td>43.049554</td>\n",
       "      <td>-76.148697</td>\n",
       "    </tr>\n",
       "  </tbody>\n",
       "</table>\n",
       "<p>5 rows × 40 columns</p>\n",
       "</div>"
      ],
      "text/plain": [
       "   SERIAL_NUMBER  SCHEDULE_ID    SCHEDULE_NAME  PATTERN_ID  ROUTE_NUMBER  \\\n",
       "0        3286134          314  Dec19 (Holiday)   191200591           371   \n",
       "1        3286134          314  Dec19 (Holiday)   191200591           371   \n",
       "2        3286134          314  Dec19 (Holiday)   191200591           371   \n",
       "3        3286134          314  Dec19 (Holiday)   191200591           371   \n",
       "4        3286134          314  Dec19 (Holiday)   191200591           371   \n",
       "\n",
       "  ROUTE_NAME DIRECTION_NAME                        BRANCH  \\\n",
       "0       SY36       FROM HUB  [sy36]Outbound 136 no plazas   \n",
       "1       SY36       FROM HUB  [sy36]Outbound 136 no plazas   \n",
       "2       SY36       FROM HUB  [sy36]Outbound 136 no plazas   \n",
       "3       SY36       FROM HUB  [sy36]Outbound 136 no plazas   \n",
       "4       SY36       FROM HUB  [sy36]Outbound 136 no plazas   \n",
       "\n",
       "              TRIP_START_TIME TIME_PERIOD  ... DWELL_TIME  \\\n",
       "0  2020-01-01 07:40:00.000000     AM Peak  ...        NaN   \n",
       "1  2020-01-01 07:40:00.000000     AM Peak  ...       0.00   \n",
       "2  2020-01-01 07:40:00.000000     AM Peak  ...       0.00   \n",
       "3  2020-01-01 07:40:00.000000     AM Peak  ...       0.00   \n",
       "4  2020-01-01 07:40:00.000000     AM Peak  ...       0.12   \n",
       "\n",
       "   RUNNING_TIME_ACTUAL  PASSENGERS_ON  PASSENGERS_OFF  PASSENGERS_IN  \\\n",
       "0                5.533              9               0              9   \n",
       "1                  NaN              0               0              9   \n",
       "2                4.200              0               0              9   \n",
       "3                  NaN              0               0              9   \n",
       "4                  NaN              1               0             10   \n",
       "\n",
       "  TIMEPOINT_MILES  FIRST_LAST_STOP    UNIQUE_ID   stop_lat   stop_lon  \n",
       "0           0.417                1  37100000002  43.043656 -76.150963  \n",
       "1             NaN                2  37100000003  43.044280 -76.147495  \n",
       "2           0.705                2  37100000005  43.045336 -76.147419  \n",
       "3             NaN                2  37100000006  43.047959 -76.147440  \n",
       "4             NaN                2  37100000007  43.049554 -76.148697  \n",
       "\n",
       "[5 rows x 40 columns]"
      ]
     },
     "execution_count": 8,
     "metadata": {},
     "output_type": "execute_result"
    }
   ],
   "source": [
    "data2020.head()"
   ]
  },
  {
   "cell_type": "code",
   "execution_count": 9,
   "id": "4d405005",
   "metadata": {
    "scrolled": true
   },
   "outputs": [
    {
     "name": "stdout",
     "output_type": "stream",
     "text": [
      "<class 'pandas.core.frame.DataFrame'>\n",
      "RangeIndex: 980551 entries, 0 to 980550\n",
      "Data columns (total 40 columns):\n",
      " #   Column               Non-Null Count   Dtype  \n",
      "---  ------               --------------   -----  \n",
      " 0   SERIAL_NUMBER        980551 non-null  int64  \n",
      " 1   SCHEDULE_ID          980551 non-null  int64  \n",
      " 2   SCHEDULE_NAME        980551 non-null  object \n",
      " 3   PATTERN_ID           980551 non-null  int64  \n",
      " 4   ROUTE_NUMBER         980551 non-null  int64  \n",
      " 5   ROUTE_NAME           980551 non-null  object \n",
      " 6   DIRECTION_NAME       980551 non-null  object \n",
      " 7   BRANCH               980551 non-null  object \n",
      " 8   TRIP_START_TIME      980551 non-null  object \n",
      " 9   TIME_PERIOD          980551 non-null  object \n",
      " 10  SERVICE_PERIOD       980551 non-null  object \n",
      " 11  TRIP_NUMBER          980551 non-null  int64  \n",
      " 12  TRIP_KEY             980551 non-null  int64  \n",
      " 13  BLOCK_NUMBER         980551 non-null  int64  \n",
      " 14  BLOCK_KEY            980551 non-null  int64  \n",
      " 15  BLOCK_NAME           980551 non-null  object \n",
      " 16  RUN_NUMBER           980551 non-null  int64  \n",
      " 17  RUN_KEY              980551 non-null  int64  \n",
      " 18  VEHICLE_NUMBER       980551 non-null  int64  \n",
      " 19  VEHICLE_SEATS        980551 non-null  int64  \n",
      " 20  OPERATOR_ID          980551 non-null  int64  \n",
      " 21  SORT_ORDER           980551 non-null  int64  \n",
      " 22  STOP_ID              980551 non-null  int64  \n",
      " 23  MAIN_CROSS_STREET    980551 non-null  object \n",
      " 24  TRAVEL_DIRECTION     980551 non-null  object \n",
      " 25  TIMEPOINT            980551 non-null  int64  \n",
      " 26  SEGMENT_MILES        980551 non-null  float64\n",
      " 27  TIME_SCHEDULED       99147 non-null   object \n",
      " 28  TIME_ACTUAL_ARRIVE   980551 non-null  object \n",
      " 29  TIME_ACTUAL_DEPART   980551 non-null  object \n",
      " 30  DWELL_TIME           947450 non-null  float64\n",
      " 31  RUNNING_TIME_ACTUAL  83881 non-null   float64\n",
      " 32  PASSENGERS_ON        980551 non-null  int64  \n",
      " 33  PASSENGERS_OFF       980551 non-null  int64  \n",
      " 34  PASSENGERS_IN        980551 non-null  int64  \n",
      " 35  TIMEPOINT_MILES      94690 non-null   float64\n",
      " 36  FIRST_LAST_STOP      980551 non-null  int64  \n",
      " 37  UNIQUE_ID            980551 non-null  int64  \n",
      " 38  stop_lat             980259 non-null  float64\n",
      " 39  stop_lon             980259 non-null  float64\n",
      "dtypes: float64(6), int64(21), object(13)\n",
      "memory usage: 299.2+ MB\n"
     ]
    }
   ],
   "source": [
    "data2019.info()"
   ]
  },
  {
   "cell_type": "code",
   "execution_count": 10,
   "id": "aee7b75c",
   "metadata": {
    "scrolled": true
   },
   "outputs": [
    {
     "name": "stdout",
     "output_type": "stream",
     "text": [
      "<class 'pandas.core.frame.DataFrame'>\n",
      "RangeIndex: 962566 entries, 0 to 962565\n",
      "Data columns (total 40 columns):\n",
      " #   Column               Non-Null Count   Dtype  \n",
      "---  ------               --------------   -----  \n",
      " 0   SERIAL_NUMBER        962566 non-null  int64  \n",
      " 1   SCHEDULE_ID          962566 non-null  int64  \n",
      " 2   SCHEDULE_NAME        962566 non-null  object \n",
      " 3   PATTERN_ID           962566 non-null  int64  \n",
      " 4   ROUTE_NUMBER         962566 non-null  int64  \n",
      " 5   ROUTE_NAME           962566 non-null  object \n",
      " 6   DIRECTION_NAME       962566 non-null  object \n",
      " 7   BRANCH               962566 non-null  object \n",
      " 8   TRIP_START_TIME      962566 non-null  object \n",
      " 9   TIME_PERIOD          962566 non-null  object \n",
      " 10  SERVICE_PERIOD       962566 non-null  object \n",
      " 11  TRIP_NUMBER          962566 non-null  int64  \n",
      " 12  TRIP_KEY             962566 non-null  int64  \n",
      " 13  BLOCK_NUMBER         962566 non-null  int64  \n",
      " 14  BLOCK_KEY            962566 non-null  int64  \n",
      " 15  BLOCK_NAME           962566 non-null  object \n",
      " 16  RUN_NUMBER           962566 non-null  int64  \n",
      " 17  RUN_KEY              962566 non-null  int64  \n",
      " 18  VEHICLE_NUMBER       962566 non-null  int64  \n",
      " 19  VEHICLE_SEATS        962566 non-null  int64  \n",
      " 20  OPERATOR_ID          962566 non-null  int64  \n",
      " 21  SORT_ORDER           962566 non-null  int64  \n",
      " 22  STOP_ID              962566 non-null  int64  \n",
      " 23  MAIN_CROSS_STREET    962566 non-null  object \n",
      " 24  TRAVEL_DIRECTION     962566 non-null  object \n",
      " 25  TIMEPOINT            962566 non-null  int64  \n",
      " 26  SEGMENT_MILES        962566 non-null  float64\n",
      " 27  TIME_SCHEDULED       97912 non-null   object \n",
      " 28  TIME_ACTUAL_ARRIVE   962566 non-null  object \n",
      " 29  TIME_ACTUAL_DEPART   962566 non-null  object \n",
      " 30  DWELL_TIME           915859 non-null  float64\n",
      " 31  RUNNING_TIME_ACTUAL  77090 non-null   float64\n",
      " 32  PASSENGERS_ON        962566 non-null  int64  \n",
      " 33  PASSENGERS_OFF       962566 non-null  int64  \n",
      " 34  PASSENGERS_IN        962566 non-null  int64  \n",
      " 35  TIMEPOINT_MILES      97912 non-null   float64\n",
      " 36  FIRST_LAST_STOP      962566 non-null  int64  \n",
      " 37  UNIQUE_ID            962566 non-null  int64  \n",
      " 38  stop_lat             161343 non-null  float64\n",
      " 39  stop_lon             161343 non-null  float64\n",
      "dtypes: float64(6), int64(21), object(13)\n",
      "memory usage: 293.8+ MB\n"
     ]
    }
   ],
   "source": [
    "data2020.info()"
   ]
  },
  {
   "cell_type": "markdown",
   "id": "dd6f828e",
   "metadata": {},
   "source": [
    "## 2019 Syracuse weather data"
   ]
  },
  {
   "cell_type": "code",
   "execution_count": 11,
   "id": "preliminary-moscow",
   "metadata": {},
   "outputs": [
    {
     "name": "stderr",
     "output_type": "stream",
     "text": [
      "/opt/conda/lib/python3.9/site-packages/urllib3/connectionpool.py:1013: InsecureRequestWarning: Unverified HTTPS request is being made to host 'gitlab.gitlab.svc.cent-su.org'. Adding certificate verification is strongly advised. See: https://urllib3.readthedocs.io/en/1.26.x/advanced-usage.html#ssl-warnings\n",
      "  warnings.warn(\n"
     ]
    }
   ],
   "source": [
    "#Loading Syracuse Weather dataset into Jupyter environment - a security warning will appear. You can ignore it.\n",
    "url_weatherdata=\"https://gitlab.gitlab.svc.cent-su.org/ccaicedo/652public/-/raw/master/syracuse_2019_weather.csv\"\n",
    "csvweatherdata=requests.get(url_weatherdata,verify=False).text  #this will generate a warning but you can proceed"
   ]
  },
  {
   "cell_type": "code",
   "execution_count": 12,
   "id": "second-trauma",
   "metadata": {},
   "outputs": [],
   "source": [
    "#Setup the weather_2019 dataframe with the data from the weather dataset \n",
    "#You still need to set the column that will be the index\n",
    "weather_2019=pd.read_csv(StringIO(csvweatherdata))"
   ]
  },
  {
   "cell_type": "code",
   "execution_count": 13,
   "id": "right-holder",
   "metadata": {},
   "outputs": [
    {
     "data": {
      "text/html": [
       "<div>\n",
       "<style scoped>\n",
       "    .dataframe tbody tr th:only-of-type {\n",
       "        vertical-align: middle;\n",
       "    }\n",
       "\n",
       "    .dataframe tbody tr th {\n",
       "        vertical-align: top;\n",
       "    }\n",
       "\n",
       "    .dataframe thead th {\n",
       "        text-align: right;\n",
       "    }\n",
       "</style>\n",
       "<table border=\"1\" class=\"dataframe\">\n",
       "  <thead>\n",
       "    <tr style=\"text-align: right;\">\n",
       "      <th></th>\n",
       "      <th>STATION</th>\n",
       "      <th>NAME</th>\n",
       "      <th>DATE</th>\n",
       "      <th>AWND</th>\n",
       "      <th>PRCP</th>\n",
       "      <th>SNOW</th>\n",
       "      <th>TAVG</th>\n",
       "      <th>TMAX</th>\n",
       "      <th>TMIN</th>\n",
       "    </tr>\n",
       "  </thead>\n",
       "  <tbody>\n",
       "    <tr>\n",
       "      <th>0</th>\n",
       "      <td>USW00014771</td>\n",
       "      <td>SYRACUSE HANCOCK INTERNATIONAL AIRPORT, NY US</td>\n",
       "      <td>1/1/2019</td>\n",
       "      <td>15.66</td>\n",
       "      <td>0.02</td>\n",
       "      <td>0.0</td>\n",
       "      <td>40</td>\n",
       "      <td>53</td>\n",
       "      <td>21</td>\n",
       "    </tr>\n",
       "    <tr>\n",
       "      <th>1</th>\n",
       "      <td>USW00014771</td>\n",
       "      <td>SYRACUSE HANCOCK INTERNATIONAL AIRPORT, NY US</td>\n",
       "      <td>1/2/2019</td>\n",
       "      <td>5.14</td>\n",
       "      <td>0.00</td>\n",
       "      <td>0.0</td>\n",
       "      <td>24</td>\n",
       "      <td>31</td>\n",
       "      <td>18</td>\n",
       "    </tr>\n",
       "    <tr>\n",
       "      <th>2</th>\n",
       "      <td>USW00014771</td>\n",
       "      <td>SYRACUSE HANCOCK INTERNATIONAL AIRPORT, NY US</td>\n",
       "      <td>1/3/2019</td>\n",
       "      <td>10.74</td>\n",
       "      <td>0.09</td>\n",
       "      <td>0.3</td>\n",
       "      <td>33</td>\n",
       "      <td>37</td>\n",
       "      <td>30</td>\n",
       "    </tr>\n",
       "    <tr>\n",
       "      <th>3</th>\n",
       "      <td>USW00014771</td>\n",
       "      <td>SYRACUSE HANCOCK INTERNATIONAL AIRPORT, NY US</td>\n",
       "      <td>1/4/2019</td>\n",
       "      <td>4.70</td>\n",
       "      <td>0.00</td>\n",
       "      <td>0.0</td>\n",
       "      <td>36</td>\n",
       "      <td>49</td>\n",
       "      <td>25</td>\n",
       "    </tr>\n",
       "    <tr>\n",
       "      <th>4</th>\n",
       "      <td>USW00014771</td>\n",
       "      <td>SYRACUSE HANCOCK INTERNATIONAL AIRPORT, NY US</td>\n",
       "      <td>1/5/2019</td>\n",
       "      <td>5.59</td>\n",
       "      <td>0.00</td>\n",
       "      <td>0.0</td>\n",
       "      <td>33</td>\n",
       "      <td>44</td>\n",
       "      <td>25</td>\n",
       "    </tr>\n",
       "  </tbody>\n",
       "</table>\n",
       "</div>"
      ],
      "text/plain": [
       "       STATION                                           NAME      DATE  \\\n",
       "0  USW00014771  SYRACUSE HANCOCK INTERNATIONAL AIRPORT, NY US  1/1/2019   \n",
       "1  USW00014771  SYRACUSE HANCOCK INTERNATIONAL AIRPORT, NY US  1/2/2019   \n",
       "2  USW00014771  SYRACUSE HANCOCK INTERNATIONAL AIRPORT, NY US  1/3/2019   \n",
       "3  USW00014771  SYRACUSE HANCOCK INTERNATIONAL AIRPORT, NY US  1/4/2019   \n",
       "4  USW00014771  SYRACUSE HANCOCK INTERNATIONAL AIRPORT, NY US  1/5/2019   \n",
       "\n",
       "    AWND  PRCP  SNOW  TAVG  TMAX  TMIN  \n",
       "0  15.66  0.02   0.0    40    53    21  \n",
       "1   5.14  0.00   0.0    24    31    18  \n",
       "2  10.74  0.09   0.3    33    37    30  \n",
       "3   4.70  0.00   0.0    36    49    25  \n",
       "4   5.59  0.00   0.0    33    44    25  "
      ]
     },
     "execution_count": 13,
     "metadata": {},
     "output_type": "execute_result"
    }
   ],
   "source": [
    "weather_2019.head()"
   ]
  },
  {
   "cell_type": "markdown",
   "id": "f078fdb5",
   "metadata": {},
   "source": [
    "# Exam task solutions"
   ]
  },
  {
   "cell_type": "markdown",
   "id": "9af835f4",
   "metadata": {},
   "source": [
    "Add the text/code/visualizations for your exam tasks solutions from this point onwards. Use as many additional cells as required. Please place long textual explanations or analysis in their own markdown cells, not as comments inside your code cells."
   ]
  },
  {
   "cell_type": "markdown",
   "id": "fc784ffe",
   "metadata": {},
   "source": [
    "# Task 0 (10 pts.)"
   ]
  },
  {
   "cell_type": "markdown",
   "id": "6b8881cd",
   "metadata": {},
   "source": [
    "**_Basketball Analysis Group_**\n",
    "\n",
    "1. Shooting efficiency has changed over time, from predominantly inside the 3 pt. arc to outside, especially due to Steph Curry and his revolutionization of the game.\n",
    "\n",
    "1. Shooting from inside the restricted area has the highest shooting percentage, and therefore one of the highest shooting efficiencies. I believe it was ~60% shooting accuracy in the restricted area, which equates to about 1.2 points per shot from said location.\n",
    "\n",
    "1. Players have started to change their shooting habits - but not everyone successfully. Some players have made their mark by being more efficient than the average in a certain shot (the midrange jumper, for example). However, since the 3-pointer has become so efficient, most players are starting to migrate towards shooting them. This will occur until a time when teams become better at denying the 3 point shot, where there will be another migration to back inside the arc."
   ]
  },
  {
   "cell_type": "markdown",
   "id": "bbfe2395",
   "metadata": {},
   "source": [
    "# Task 1 (30 pts.)"
   ]
  },
  {
   "cell_type": "code",
   "execution_count": 40,
   "id": "5d4ffc72",
   "metadata": {},
   "outputs": [],
   "source": [
    "import datetime #needed for later"
   ]
  },
  {
   "cell_type": "code",
   "execution_count": 15,
   "id": "474d28c2",
   "metadata": {},
   "outputs": [
    {
     "data": {
      "text/html": [
       "<div>\n",
       "<style scoped>\n",
       "    .dataframe tbody tr th:only-of-type {\n",
       "        vertical-align: middle;\n",
       "    }\n",
       "\n",
       "    .dataframe tbody tr th {\n",
       "        vertical-align: top;\n",
       "    }\n",
       "\n",
       "    .dataframe thead th {\n",
       "        text-align: right;\n",
       "    }\n",
       "</style>\n",
       "<table border=\"1\" class=\"dataframe\">\n",
       "  <thead>\n",
       "    <tr style=\"text-align: right;\">\n",
       "      <th></th>\n",
       "      <th>serial_number</th>\n",
       "      <th>schedule_id</th>\n",
       "      <th>schedule_name</th>\n",
       "      <th>pattern_id</th>\n",
       "      <th>route_number</th>\n",
       "      <th>route_name</th>\n",
       "      <th>direction_name</th>\n",
       "      <th>branch</th>\n",
       "      <th>time_period</th>\n",
       "      <th>service_period</th>\n",
       "      <th>...</th>\n",
       "      <th>dwell_time</th>\n",
       "      <th>running_time_actual</th>\n",
       "      <th>passengers_on</th>\n",
       "      <th>passengers_off</th>\n",
       "      <th>passengers_in</th>\n",
       "      <th>timepoint_miles</th>\n",
       "      <th>first_last_stop</th>\n",
       "      <th>unique_id</th>\n",
       "      <th>stop_lat</th>\n",
       "      <th>stop_lon</th>\n",
       "    </tr>\n",
       "    <tr>\n",
       "      <th>trip_start_time</th>\n",
       "      <th></th>\n",
       "      <th></th>\n",
       "      <th></th>\n",
       "      <th></th>\n",
       "      <th></th>\n",
       "      <th></th>\n",
       "      <th></th>\n",
       "      <th></th>\n",
       "      <th></th>\n",
       "      <th></th>\n",
       "      <th></th>\n",
       "      <th></th>\n",
       "      <th></th>\n",
       "      <th></th>\n",
       "      <th></th>\n",
       "      <th></th>\n",
       "      <th></th>\n",
       "      <th></th>\n",
       "      <th></th>\n",
       "      <th></th>\n",
       "      <th></th>\n",
       "    </tr>\n",
       "  </thead>\n",
       "  <tbody>\n",
       "    <tr>\n",
       "      <th>2019-01-01 07:40:00</th>\n",
       "      <td>2604260</td>\n",
       "      <td>295</td>\n",
       "      <td>Sep18 (Holiday)</td>\n",
       "      <td>180900591</td>\n",
       "      <td>371</td>\n",
       "      <td>SY36</td>\n",
       "      <td>FROM HUB</td>\n",
       "      <td>[Sy36]Outbound 136 no plazas</td>\n",
       "      <td>AM Peak</td>\n",
       "      <td>Sunday</td>\n",
       "      <td>...</td>\n",
       "      <td>NaN</td>\n",
       "      <td>5.483</td>\n",
       "      <td>8</td>\n",
       "      <td>0</td>\n",
       "      <td>8</td>\n",
       "      <td>0.413</td>\n",
       "      <td>1</td>\n",
       "      <td>37100000002</td>\n",
       "      <td>43.043656</td>\n",
       "      <td>-76.150963</td>\n",
       "    </tr>\n",
       "    <tr>\n",
       "      <th>2019-01-01 07:40:00</th>\n",
       "      <td>2604260</td>\n",
       "      <td>295</td>\n",
       "      <td>Sep18 (Holiday)</td>\n",
       "      <td>180900591</td>\n",
       "      <td>371</td>\n",
       "      <td>SY36</td>\n",
       "      <td>FROM HUB</td>\n",
       "      <td>[Sy36]Outbound 136 no plazas</td>\n",
       "      <td>AM Peak</td>\n",
       "      <td>Sunday</td>\n",
       "      <td>...</td>\n",
       "      <td>0.0</td>\n",
       "      <td>NaN</td>\n",
       "      <td>0</td>\n",
       "      <td>0</td>\n",
       "      <td>8</td>\n",
       "      <td>NaN</td>\n",
       "      <td>2</td>\n",
       "      <td>37100000003</td>\n",
       "      <td>43.044280</td>\n",
       "      <td>-76.147495</td>\n",
       "    </tr>\n",
       "    <tr>\n",
       "      <th>2019-01-01 07:40:00</th>\n",
       "      <td>2604260</td>\n",
       "      <td>295</td>\n",
       "      <td>Sep18 (Holiday)</td>\n",
       "      <td>180900591</td>\n",
       "      <td>371</td>\n",
       "      <td>SY36</td>\n",
       "      <td>FROM HUB</td>\n",
       "      <td>[Sy36]Outbound 136 no plazas</td>\n",
       "      <td>AM Peak</td>\n",
       "      <td>Sunday</td>\n",
       "      <td>...</td>\n",
       "      <td>0.0</td>\n",
       "      <td>2.550</td>\n",
       "      <td>0</td>\n",
       "      <td>0</td>\n",
       "      <td>8</td>\n",
       "      <td>0.716</td>\n",
       "      <td>2</td>\n",
       "      <td>37100000005</td>\n",
       "      <td>43.045336</td>\n",
       "      <td>-76.147419</td>\n",
       "    </tr>\n",
       "    <tr>\n",
       "      <th>2019-01-01 07:40:00</th>\n",
       "      <td>2604260</td>\n",
       "      <td>295</td>\n",
       "      <td>Sep18 (Holiday)</td>\n",
       "      <td>180900591</td>\n",
       "      <td>371</td>\n",
       "      <td>SY36</td>\n",
       "      <td>FROM HUB</td>\n",
       "      <td>[Sy36]Outbound 136 no plazas</td>\n",
       "      <td>AM Peak</td>\n",
       "      <td>Sunday</td>\n",
       "      <td>...</td>\n",
       "      <td>0.0</td>\n",
       "      <td>NaN</td>\n",
       "      <td>0</td>\n",
       "      <td>0</td>\n",
       "      <td>8</td>\n",
       "      <td>NaN</td>\n",
       "      <td>2</td>\n",
       "      <td>37100000006</td>\n",
       "      <td>43.047959</td>\n",
       "      <td>-76.147440</td>\n",
       "    </tr>\n",
       "    <tr>\n",
       "      <th>2019-01-01 07:40:00</th>\n",
       "      <td>2604260</td>\n",
       "      <td>295</td>\n",
       "      <td>Sep18 (Holiday)</td>\n",
       "      <td>180900591</td>\n",
       "      <td>371</td>\n",
       "      <td>SY36</td>\n",
       "      <td>FROM HUB</td>\n",
       "      <td>[Sy36]Outbound 136 no plazas</td>\n",
       "      <td>AM Peak</td>\n",
       "      <td>Sunday</td>\n",
       "      <td>...</td>\n",
       "      <td>0.0</td>\n",
       "      <td>NaN</td>\n",
       "      <td>0</td>\n",
       "      <td>0</td>\n",
       "      <td>8</td>\n",
       "      <td>NaN</td>\n",
       "      <td>2</td>\n",
       "      <td>37100000007</td>\n",
       "      <td>43.049554</td>\n",
       "      <td>-76.148697</td>\n",
       "    </tr>\n",
       "  </tbody>\n",
       "</table>\n",
       "<p>5 rows × 39 columns</p>\n",
       "</div>"
      ],
      "text/plain": [
       "                     serial_number  schedule_id    schedule_name  pattern_id  \\\n",
       "trip_start_time                                                                \n",
       "2019-01-01 07:40:00        2604260          295  Sep18 (Holiday)   180900591   \n",
       "2019-01-01 07:40:00        2604260          295  Sep18 (Holiday)   180900591   \n",
       "2019-01-01 07:40:00        2604260          295  Sep18 (Holiday)   180900591   \n",
       "2019-01-01 07:40:00        2604260          295  Sep18 (Holiday)   180900591   \n",
       "2019-01-01 07:40:00        2604260          295  Sep18 (Holiday)   180900591   \n",
       "\n",
       "                     route_number route_name direction_name  \\\n",
       "trip_start_time                                               \n",
       "2019-01-01 07:40:00           371       SY36       FROM HUB   \n",
       "2019-01-01 07:40:00           371       SY36       FROM HUB   \n",
       "2019-01-01 07:40:00           371       SY36       FROM HUB   \n",
       "2019-01-01 07:40:00           371       SY36       FROM HUB   \n",
       "2019-01-01 07:40:00           371       SY36       FROM HUB   \n",
       "\n",
       "                                           branch time_period service_period  \\\n",
       "trip_start_time                                                                \n",
       "2019-01-01 07:40:00  [Sy36]Outbound 136 no plazas     AM Peak         Sunday   \n",
       "2019-01-01 07:40:00  [Sy36]Outbound 136 no plazas     AM Peak         Sunday   \n",
       "2019-01-01 07:40:00  [Sy36]Outbound 136 no plazas     AM Peak         Sunday   \n",
       "2019-01-01 07:40:00  [Sy36]Outbound 136 no plazas     AM Peak         Sunday   \n",
       "2019-01-01 07:40:00  [Sy36]Outbound 136 no plazas     AM Peak         Sunday   \n",
       "\n",
       "                     ...  dwell_time  running_time_actual  passengers_on  \\\n",
       "trip_start_time      ...                                                   \n",
       "2019-01-01 07:40:00  ...         NaN                5.483              8   \n",
       "2019-01-01 07:40:00  ...         0.0                  NaN              0   \n",
       "2019-01-01 07:40:00  ...         0.0                2.550              0   \n",
       "2019-01-01 07:40:00  ...         0.0                  NaN              0   \n",
       "2019-01-01 07:40:00  ...         0.0                  NaN              0   \n",
       "\n",
       "                     passengers_off passengers_in  timepoint_miles  \\\n",
       "trip_start_time                                                      \n",
       "2019-01-01 07:40:00               0             8            0.413   \n",
       "2019-01-01 07:40:00               0             8              NaN   \n",
       "2019-01-01 07:40:00               0             8            0.716   \n",
       "2019-01-01 07:40:00               0             8              NaN   \n",
       "2019-01-01 07:40:00               0             8              NaN   \n",
       "\n",
       "                     first_last_stop    unique_id   stop_lat   stop_lon  \n",
       "trip_start_time                                                          \n",
       "2019-01-01 07:40:00                1  37100000002  43.043656 -76.150963  \n",
       "2019-01-01 07:40:00                2  37100000003  43.044280 -76.147495  \n",
       "2019-01-01 07:40:00                2  37100000005  43.045336 -76.147419  \n",
       "2019-01-01 07:40:00                2  37100000006  43.047959 -76.147440  \n",
       "2019-01-01 07:40:00                2  37100000007  43.049554 -76.148697  \n",
       "\n",
       "[5 rows x 39 columns]"
      ]
     },
     "execution_count": 15,
     "metadata": {},
     "output_type": "execute_result"
    }
   ],
   "source": [
    "data_2019 = data2019 #make copy\n",
    "data_2019.columns = data_2019.columns.str.lower() #rename columns for ease\n",
    "data_2019.trip_start_time = pd.to_datetime(data_2019.trip_start_time) #convert to datetime\n",
    "data_2019 = data_2019.set_index(\"trip_start_time\") #set index\n",
    "data_2019.head()"
   ]
  },
  {
   "cell_type": "code",
   "execution_count": 16,
   "id": "e207cdc3",
   "metadata": {},
   "outputs": [
    {
     "data": {
      "text/plain": [
       "stop_id  trip_start_time\n",
       "-49      2019-12-16         8\n",
       "         2019-12-17         7\n",
       "         2019-12-18         8\n",
       "         2019-12-19         8\n",
       "         2019-12-20         5\n",
       "Name: passengers_on, dtype: int64"
      ]
     },
     "execution_count": 16,
     "metadata": {},
     "output_type": "execute_result"
    }
   ],
   "source": [
    "stops_2019 = data_2019.groupby([\"stop_id\"]).resample(\"D\").sum().passengers_on\n",
    "stops_2019.head()"
   ]
  },
  {
   "cell_type": "markdown",
   "id": "4974533f",
   "metadata": {},
   "source": [
    "**_Above:_** I grouped the data by stop_id, then resampled by day (since I had already set the index to a datetime formatted column). In the resampling, I chose to use a sum (prompt asked for total by day), and then selected just the relevant column.\n",
    "\n",
    "_**Below** (continued from above):_ In order to extract the stop id for further operation independent of the date, I had to liberate it from its role as the index. I am sure there was a way to do this with leaving it as the index, but I didn't quite know how to operate on a multi-index, so I took the smple route."
   ]
  },
  {
   "cell_type": "code",
   "execution_count": 17,
   "id": "09c2c516",
   "metadata": {},
   "outputs": [
    {
     "data": {
      "text/html": [
       "<div>\n",
       "<style scoped>\n",
       "    .dataframe tbody tr th:only-of-type {\n",
       "        vertical-align: middle;\n",
       "    }\n",
       "\n",
       "    .dataframe tbody tr th {\n",
       "        vertical-align: top;\n",
       "    }\n",
       "\n",
       "    .dataframe thead th {\n",
       "        text-align: right;\n",
       "    }\n",
       "</style>\n",
       "<table border=\"1\" class=\"dataframe\">\n",
       "  <thead>\n",
       "    <tr style=\"text-align: right;\">\n",
       "      <th></th>\n",
       "      <th>stop_id</th>\n",
       "      <th>trip_start_time</th>\n",
       "      <th>passengers_on</th>\n",
       "    </tr>\n",
       "  </thead>\n",
       "  <tbody>\n",
       "    <tr>\n",
       "      <th>0</th>\n",
       "      <td>-49</td>\n",
       "      <td>2019-12-16</td>\n",
       "      <td>8</td>\n",
       "    </tr>\n",
       "    <tr>\n",
       "      <th>1</th>\n",
       "      <td>-49</td>\n",
       "      <td>2019-12-17</td>\n",
       "      <td>7</td>\n",
       "    </tr>\n",
       "    <tr>\n",
       "      <th>2</th>\n",
       "      <td>-49</td>\n",
       "      <td>2019-12-18</td>\n",
       "      <td>8</td>\n",
       "    </tr>\n",
       "    <tr>\n",
       "      <th>3</th>\n",
       "      <td>-49</td>\n",
       "      <td>2019-12-19</td>\n",
       "      <td>8</td>\n",
       "    </tr>\n",
       "    <tr>\n",
       "      <th>4</th>\n",
       "      <td>-49</td>\n",
       "      <td>2019-12-20</td>\n",
       "      <td>5</td>\n",
       "    </tr>\n",
       "    <tr>\n",
       "      <th>...</th>\n",
       "      <td>...</td>\n",
       "      <td>...</td>\n",
       "      <td>...</td>\n",
       "    </tr>\n",
       "    <tr>\n",
       "      <th>58812</th>\n",
       "      <td>17824</td>\n",
       "      <td>2019-12-28</td>\n",
       "      <td>0</td>\n",
       "    </tr>\n",
       "    <tr>\n",
       "      <th>58813</th>\n",
       "      <td>17824</td>\n",
       "      <td>2019-12-29</td>\n",
       "      <td>0</td>\n",
       "    </tr>\n",
       "    <tr>\n",
       "      <th>58814</th>\n",
       "      <td>17824</td>\n",
       "      <td>2019-12-30</td>\n",
       "      <td>0</td>\n",
       "    </tr>\n",
       "    <tr>\n",
       "      <th>58815</th>\n",
       "      <td>17824</td>\n",
       "      <td>2019-12-31</td>\n",
       "      <td>0</td>\n",
       "    </tr>\n",
       "    <tr>\n",
       "      <th>58816</th>\n",
       "      <td>17824</td>\n",
       "      <td>2020-01-01</td>\n",
       "      <td>0</td>\n",
       "    </tr>\n",
       "  </tbody>\n",
       "</table>\n",
       "<p>58817 rows × 3 columns</p>\n",
       "</div>"
      ],
      "text/plain": [
       "       stop_id trip_start_time  passengers_on\n",
       "0          -49      2019-12-16              8\n",
       "1          -49      2019-12-17              7\n",
       "2          -49      2019-12-18              8\n",
       "3          -49      2019-12-19              8\n",
       "4          -49      2019-12-20              5\n",
       "...        ...             ...            ...\n",
       "58812    17824      2019-12-28              0\n",
       "58813    17824      2019-12-29              0\n",
       "58814    17824      2019-12-30              0\n",
       "58815    17824      2019-12-31              0\n",
       "58816    17824      2020-01-01              0\n",
       "\n",
       "[58817 rows x 3 columns]"
      ]
     },
     "execution_count": 17,
     "metadata": {},
     "output_type": "execute_result"
    }
   ],
   "source": [
    "stops_2019 = stops_2019.reset_index() #reset index to access datetime\n",
    "stops_2019"
   ]
  },
  {
   "cell_type": "code",
   "execution_count": 18,
   "id": "30fad2df",
   "metadata": {},
   "outputs": [
    {
     "data": {
      "text/plain": [
       "stop_id\n",
       "17661    167.396175\n",
       "3761      80.587432\n",
       "629       25.366120\n",
       "727       24.368852\n",
       "1114      22.374317\n",
       "            ...    \n",
       "854        0.002740\n",
       "17657      0.000000\n",
       "17659      0.000000\n",
       "17640      0.000000\n",
       "840        0.000000\n",
       "Name: passengers_on, Length: 162, dtype: float64"
      ]
     },
     "execution_count": 18,
     "metadata": {},
     "output_type": "execute_result"
    }
   ],
   "source": [
    "stops_2019.groupby([\"stop_id\"]).passengers_on.mean().sort_values(ascending = False)"
   ]
  },
  {
   "cell_type": "markdown",
   "id": "a3e72038",
   "metadata": {},
   "source": [
    "**_Above:_** Once the stop id has been extracted from its position as the index, it is a simple matter of grouping by stop id, then taking the average of the passengers_on column in order to get the overall average (since they had already been summed up by day). A final sort revealed the stops with the highest average number of passengers getting on, which far exceeds the requirement of 5 set forth by the prompt.\n",
    "\n",
    "_**Below** (continued from above):_ Once the stop id had been found, it is a simple matter of returning to the base dataset and filtering all values that match the stop id via the use of subsetting. I also needed the day part of the datetime object (the index, at this point) so I needed to reset the index so that I could extract it using the datetime module imported earlier. Once I had what I needed, I could set the index back to the datetime object and create a series to check the number of days prior to comparing it to the weather dataset."
   ]
  },
  {
   "cell_type": "code",
   "execution_count": 19,
   "id": "74bf8866",
   "metadata": {
    "scrolled": true
   },
   "outputs": [],
   "source": [
    "#stop id 17661\n",
    "bus_stop = data_2019[data_2019.stop_id == 17661] #filtering using subsetting\n",
    "bus_stop = bus_stop.reset_index() #reset index\n",
    "bus_stop[\"day\"] = bus_stop.trip_start_time.dt.date #copy out the day part to new col\n",
    "bus_stop = bus_stop.set_index(\"trip_start_time\") #set the index back to what it was\n",
    "date_lookup = bus_stop.day.reset_index(drop=True) #save series out as an object"
   ]
  },
  {
   "cell_type": "code",
   "execution_count": 20,
   "id": "fd784141",
   "metadata": {},
   "outputs": [
    {
     "data": {
      "text/plain": [
       "366"
      ]
     },
     "execution_count": 20,
     "metadata": {},
     "output_type": "execute_result"
    }
   ],
   "source": [
    "len(date_lookup.unique()) #check length of series\n",
    "\n",
    "#366 days, dropping 1/1/2020"
   ]
  },
  {
   "cell_type": "code",
   "execution_count": 21,
   "id": "fbaeee65",
   "metadata": {},
   "outputs": [
    {
     "data": {
      "text/plain": [
       "365"
      ]
     },
     "execution_count": 21,
     "metadata": {},
     "output_type": "execute_result"
    }
   ],
   "source": [
    "bus_stop = bus_stop[bus_stop.day != datetime.date(2020, 1, 1)] #drop the day not in the same year\n",
    "bus_stop.day.unique().size #check size again"
   ]
  },
  {
   "cell_type": "code",
   "execution_count": 22,
   "id": "771fa653",
   "metadata": {},
   "outputs": [],
   "source": [
    "weather2019 = weather_2019 #save copy of weather\n",
    "weather2019.columns = weather2019.columns.str.lower() #rename all cols to lower\n",
    "weather2019.date = pd.to_datetime(weather2019.date) #convert to datetime"
   ]
  },
  {
   "cell_type": "code",
   "execution_count": 23,
   "id": "9f05da49",
   "metadata": {},
   "outputs": [
    {
     "data": {
      "text/plain": [
       "365"
      ]
     },
     "metadata": {},
     "output_type": "display_data"
    },
    {
     "data": {
      "text/html": [
       "<div>\n",
       "<style scoped>\n",
       "    .dataframe tbody tr th:only-of-type {\n",
       "        vertical-align: middle;\n",
       "    }\n",
       "\n",
       "    .dataframe tbody tr th {\n",
       "        vertical-align: top;\n",
       "    }\n",
       "\n",
       "    .dataframe thead th {\n",
       "        text-align: right;\n",
       "    }\n",
       "</style>\n",
       "<table border=\"1\" class=\"dataframe\">\n",
       "  <thead>\n",
       "    <tr style=\"text-align: right;\">\n",
       "      <th></th>\n",
       "      <th>station</th>\n",
       "      <th>name</th>\n",
       "      <th>awnd</th>\n",
       "      <th>prcp</th>\n",
       "      <th>snow</th>\n",
       "      <th>tavg</th>\n",
       "      <th>tmax</th>\n",
       "      <th>tmin</th>\n",
       "      <th>day</th>\n",
       "    </tr>\n",
       "    <tr>\n",
       "      <th>date</th>\n",
       "      <th></th>\n",
       "      <th></th>\n",
       "      <th></th>\n",
       "      <th></th>\n",
       "      <th></th>\n",
       "      <th></th>\n",
       "      <th></th>\n",
       "      <th></th>\n",
       "      <th></th>\n",
       "    </tr>\n",
       "  </thead>\n",
       "  <tbody>\n",
       "    <tr>\n",
       "      <th>2019-01-01</th>\n",
       "      <td>USW00014771</td>\n",
       "      <td>SYRACUSE HANCOCK INTERNATIONAL AIRPORT, NY US</td>\n",
       "      <td>15.66</td>\n",
       "      <td>0.02</td>\n",
       "      <td>0.0</td>\n",
       "      <td>40</td>\n",
       "      <td>53</td>\n",
       "      <td>21</td>\n",
       "      <td>2019-01-01</td>\n",
       "    </tr>\n",
       "    <tr>\n",
       "      <th>2019-01-02</th>\n",
       "      <td>USW00014771</td>\n",
       "      <td>SYRACUSE HANCOCK INTERNATIONAL AIRPORT, NY US</td>\n",
       "      <td>5.14</td>\n",
       "      <td>0.00</td>\n",
       "      <td>0.0</td>\n",
       "      <td>24</td>\n",
       "      <td>31</td>\n",
       "      <td>18</td>\n",
       "      <td>2019-01-02</td>\n",
       "    </tr>\n",
       "    <tr>\n",
       "      <th>2019-01-03</th>\n",
       "      <td>USW00014771</td>\n",
       "      <td>SYRACUSE HANCOCK INTERNATIONAL AIRPORT, NY US</td>\n",
       "      <td>10.74</td>\n",
       "      <td>0.09</td>\n",
       "      <td>0.3</td>\n",
       "      <td>33</td>\n",
       "      <td>37</td>\n",
       "      <td>30</td>\n",
       "      <td>2019-01-03</td>\n",
       "    </tr>\n",
       "    <tr>\n",
       "      <th>2019-01-04</th>\n",
       "      <td>USW00014771</td>\n",
       "      <td>SYRACUSE HANCOCK INTERNATIONAL AIRPORT, NY US</td>\n",
       "      <td>4.70</td>\n",
       "      <td>0.00</td>\n",
       "      <td>0.0</td>\n",
       "      <td>36</td>\n",
       "      <td>49</td>\n",
       "      <td>25</td>\n",
       "      <td>2019-01-04</td>\n",
       "    </tr>\n",
       "    <tr>\n",
       "      <th>2019-01-05</th>\n",
       "      <td>USW00014771</td>\n",
       "      <td>SYRACUSE HANCOCK INTERNATIONAL AIRPORT, NY US</td>\n",
       "      <td>5.59</td>\n",
       "      <td>0.00</td>\n",
       "      <td>0.0</td>\n",
       "      <td>33</td>\n",
       "      <td>44</td>\n",
       "      <td>25</td>\n",
       "      <td>2019-01-05</td>\n",
       "    </tr>\n",
       "  </tbody>\n",
       "</table>\n",
       "</div>"
      ],
      "text/plain": [
       "                station                                           name   awnd  \\\n",
       "date                                                                            \n",
       "2019-01-01  USW00014771  SYRACUSE HANCOCK INTERNATIONAL AIRPORT, NY US  15.66   \n",
       "2019-01-02  USW00014771  SYRACUSE HANCOCK INTERNATIONAL AIRPORT, NY US   5.14   \n",
       "2019-01-03  USW00014771  SYRACUSE HANCOCK INTERNATIONAL AIRPORT, NY US  10.74   \n",
       "2019-01-04  USW00014771  SYRACUSE HANCOCK INTERNATIONAL AIRPORT, NY US   4.70   \n",
       "2019-01-05  USW00014771  SYRACUSE HANCOCK INTERNATIONAL AIRPORT, NY US   5.59   \n",
       "\n",
       "            prcp  snow  tavg  tmax  tmin         day  \n",
       "date                                                  \n",
       "2019-01-01  0.02   0.0    40    53    21  2019-01-01  \n",
       "2019-01-02  0.00   0.0    24    31    18  2019-01-02  \n",
       "2019-01-03  0.09   0.3    33    37    30  2019-01-03  \n",
       "2019-01-04  0.00   0.0    36    49    25  2019-01-04  \n",
       "2019-01-05  0.00   0.0    33    44    25  2019-01-05  "
      ]
     },
     "metadata": {},
     "output_type": "display_data"
    }
   ],
   "source": [
    "weather2019[\"day\"] = weather2019.date.dt.date #same process as above -> extract date\n",
    "weather2019 = weather2019.set_index(\"date\") #set index\n",
    "display(weather2019.day.unique().size) #check and print size of day part series\n",
    "display(weather2019.head()) #take a peek at the data"
   ]
  },
  {
   "cell_type": "code",
   "execution_count": 24,
   "id": "065f2109",
   "metadata": {},
   "outputs": [],
   "source": [
    "import matplotlib.pyplot as plt #import for plotting"
   ]
  },
  {
   "cell_type": "markdown",
   "id": "5b082543",
   "metadata": {},
   "source": [
    "_**Below**_ Time for a visual comparison of the bus data and the weather. Unfortunately, they are all plotted on different scales, so I couldn't stack them all on the same plot (without normalization I suppose). I chose to use a rolling average to smooth out the curves a little bit, making it easier to see the overall trends across each metric.\n",
    "\n",
    "(The analysis will be below the graphs)"
   ]
  },
  {
   "cell_type": "code",
   "execution_count": 25,
   "id": "d354bbb8",
   "metadata": {},
   "outputs": [
    {
     "data": {
      "text/plain": [
       "Text(0.5, 1.0, 'avg temp')"
      ]
     },
     "execution_count": 25,
     "metadata": {},
     "output_type": "execute_result"
    },
    {
     "data": {
      "image/png": "[encoded data removed]",
      "text/plain": [
       "<Figure size 432x288 with 1 Axes>"
      ]
     },
     "metadata": {
      "needs_background": "light"
     },
     "output_type": "display_data"
    },
    {
     "data": {
      "image/png": "[encoded data removed]",
      "text/plain": [
       "<Figure size 432x288 with 1 Axes>"
      ]
     },
     "metadata": {
      "needs_background": "light"
     },
     "output_type": "display_data"
    },
    {
     "data": {
      "image/png": "[encoded data removed]",
      "text/plain": [
       "<Figure size 432x288 with 1 Axes>"
      ]
     },
     "metadata": {
      "needs_background": "light"
     },
     "output_type": "display_data"
    },
    {
     "data": {
      "image/png": "[encoded data removed]",
      "text/plain": [
       "<Figure size 432x288 with 1 Axes>"
      ]
     },
     "metadata": {
      "needs_background": "light"
     },
     "output_type": "display_data"
    }
   ],
   "source": [
    "#now that number of days matches up, let's plot them to see what we get\n",
    "stop_passengers = bus_stop.resample(\"D\").sum()[\"passengers_on\"]\n",
    "\n",
    "plt.figure()\n",
    "stop_passengers.rolling(14).mean().plot()\n",
    "plt.title(\"passengers\")\n",
    "plt.figure()\n",
    "weather2019.prcp.rolling(14).mean().plot()\n",
    "plt.title(\"precipitation\")\n",
    "plt.figure()\n",
    "weather2019.snow.rolling(14).mean().plot()\n",
    "plt.title(\"snowfall\")\n",
    "plt.figure()\n",
    "weather2019.tavg.rolling(14).mean().plot()\n",
    "plt.title(\"avg temp\")"
   ]
  },
  {
   "cell_type": "markdown",
   "id": "05025b74",
   "metadata": {},
   "source": [
    "**_Above:_** Across the four plots (number of passengers, precipitation amount, snowfall amount, and avg temps), there does seem to be some correlations. First off, it should be noted that the stop I am using, ID 17661, is the Centro Hub Bay for this route. This is important to keep in mind because the hub will provide a better indication of all bus travel, not purely this line, though of course it speaks to that as well.\n",
    "\n",
    "It does appear that during the summer and winter months, ridership drops off the most. This may be explained by the departure of area college students, be they attending Syracuse or elsewhere; however, this does not tell the full story. The winter decline is greater than the summer one, meaning other factors are coming into play. For example, when snowfall is high and temperatures are low, the passenger count at this stop declines and even sets local minima.\n",
    "\n",
    "Interestingly enough, it appears that precipitation has much less of an effect on ridership than previously anticipated. There don't seem to be any overall trends gorverning the ridership that correlate with any movement of precipitaion amounts. Perhaps the Syracusans are much mroe acclimated to rain than snow?"
   ]
  },
  {
   "cell_type": "markdown",
   "id": "912552fb",
   "metadata": {},
   "source": [
    "## Subtask 1.1 (10 pts.)"
   ]
  },
  {
   "cell_type": "code",
   "execution_count": 26,
   "id": "3ff7aabf",
   "metadata": {},
   "outputs": [
    {
     "data": {
      "text/plain": [
       "<AxesSubplot:xlabel='date'>"
      ]
     },
     "execution_count": 26,
     "metadata": {},
     "output_type": "execute_result"
    },
    {
     "data": {
      "image/png": "[encoded data removed]",
      "text/plain": [
       "<Figure size 432x288 with 1 Axes>"
      ]
     },
     "metadata": {
      "needs_background": "light"
     },
     "output_type": "display_data"
    },
    {
     "data": {
      "image/png": "[encoded data removed]",
      "text/plain": [
       "<Figure size 432x288 with 1 Axes>"
      ]
     },
     "metadata": {
      "needs_background": "light"
     },
     "output_type": "display_data"
    }
   ],
   "source": [
    "plt.figure()\n",
    "bus_stop.resample(\"M\").mean().passengers_on.plot() #monthly passengers avg\n",
    "plt.figure()\n",
    "weather2019.resample(\"M\").mean().tavg.plot() #monthly avg temp"
   ]
  },
  {
   "cell_type": "markdown",
   "id": "c921d760",
   "metadata": {},
   "source": [
    "_**Above:**_ Montly averages are less telling than I would have assumed, primarily because it clears out too much noise, in my opinion. It also should be noted that the Centro Hub is covered, so when there is inclimate weather or low temperatures, there is at least some respite for the riders who do venture out. However, the ridership is still at its lowest during the winter and summer months, suggesting that the college ecosystem (students, professors, staff, etc) make up a large chunk of the riders who get on at this stop."
   ]
  },
  {
   "cell_type": "markdown",
   "id": "d03c06ab",
   "metadata": {},
   "source": [
    "## Subtask 1.2 (10 pts.)"
   ]
  },
  {
   "cell_type": "code",
   "execution_count": 27,
   "id": "61a9138f",
   "metadata": {},
   "outputs": [
    {
     "data": {
      "text/plain": [
       "<matplotlib.legend.Legend at 0x7f7c3fe03400>"
      ]
     },
     "execution_count": 27,
     "metadata": {},
     "output_type": "execute_result"
    },
    {
     "data": {
      "image/png": "[encoded data removed]",
      "text/plain": [
       "<Figure size 432x288 with 1 Axes>"
      ]
     },
     "metadata": {
      "needs_background": "light"
     },
     "output_type": "display_data"
    }
   ],
   "source": [
    "bus_stop2 = data_2019[data_2019.stop_id == 3761] #subset to get data on another bus stop\n",
    "bus_stop2 = bus_stop2.reset_index() #reset index\n",
    "bus_stop2[\"day\"] = bus_stop2.trip_start_time.dt.date #grab date\n",
    "bus_stop2 = bus_stop2.set_index(\"trip_start_time\") #set index\n",
    "bus_stop2 = bus_stop2[bus_stop2.day != datetime.date(2020, 1, 1)] #remove outlying date\n",
    "bus_stop2[\"passengers_on2\"] = bus_stop2[\"passengers_on\"] #rename so they are labeled differently\n",
    "\n",
    "plt.figure()\n",
    "bus_stop2.resample(\"M\").mean().passengers_on2.plot() #monthly CAMILLUS COMMONS riders\n",
    "bus_stop.resample(\"M\").mean().passengers_on.plot() #monthly CENTRO HUB riders\n",
    "plt.legend()"
   ]
  },
  {
   "cell_type": "markdown",
   "id": "de851951",
   "metadata": {},
   "source": [
    "_**Above:**_ Of course, the two stops are separated by a monthly average of about 3 to 4 passengers each time the bus stops at each given location; however, the two stops share, on the whole, a very similar trend in terms of passenger load. There is a large uptick when the college crowd returns around the end of August/early September, as well as a slight concave movement around summertime as well."
   ]
  },
  {
   "cell_type": "markdown",
   "id": "f1eaa733",
   "metadata": {},
   "source": [
    "## Subtask 1.3 (10 pts.)"
   ]
  },
  {
   "cell_type": "code",
   "execution_count": 28,
   "id": "e4881b48",
   "metadata": {},
   "outputs": [
    {
     "data": {
      "text/plain": [
       "stop_id\n",
       "17661    167.396175\n",
       "3761      80.587432\n",
       "629       25.366120\n",
       "727       24.368852\n",
       "1114      22.374317\n",
       "            ...    \n",
       "854        0.002740\n",
       "17657      0.000000\n",
       "17659      0.000000\n",
       "17640      0.000000\n",
       "840        0.000000\n",
       "Name: passengers_on, Length: 162, dtype: float64"
      ]
     },
     "execution_count": 28,
     "metadata": {},
     "output_type": "execute_result"
    }
   ],
   "source": [
    "stops_2019.groupby([\"stop_id\"]).passengers_on.mean().sort_values(ascending = False)"
   ]
  },
  {
   "cell_type": "markdown",
   "id": "9617f168",
   "metadata": {},
   "source": [
    "_**Above:**_ I accidentally did this earlier while performing my other analyses, so I just copied the code down here for organizational sake."
   ]
  },
  {
   "cell_type": "markdown",
   "id": "4e86908d",
   "metadata": {},
   "source": [
    "# Task 2 (30 pts.)"
   ]
  },
  {
   "cell_type": "code",
   "execution_count": 29,
   "id": "071aeef2",
   "metadata": {},
   "outputs": [
    {
     "name": "stderr",
     "output_type": "stream",
     "text": [
      "/opt/conda/lib/python3.9/site-packages/pandas/core/generic.py:5516: SettingWithCopyWarning: \n",
      "A value is trying to be set on a copy of a slice from a DataFrame.\n",
      "Try using .loc[row_indexer,col_indexer] = value instead\n",
      "\n",
      "See the caveats in the documentation: https://pandas.pydata.org/pandas-docs/stable/user_guide/indexing.html#returning-a-view-versus-a-copy\n",
      "  self[name] = value\n",
      "/tmp/ipykernel_54/2891600719.py:16: SettingWithCopyWarning: \n",
      "A value is trying to be set on a copy of a slice from a DataFrame.\n",
      "Try using .loc[row_indexer,col_indexer] = value instead\n",
      "\n",
      "See the caveats in the documentation: https://pandas.pydata.org/pandas-docs/stable/user_guide/indexing.html#returning-a-view-versus-a-copy\n",
      "  data_19[\"day\"] = data_19.trip_start_time.dt.date\n",
      "/tmp/ipykernel_54/2891600719.py:17: SettingWithCopyWarning: \n",
      "A value is trying to be set on a copy of a slice from a DataFrame.\n",
      "Try using .loc[row_indexer,col_indexer] = value instead\n",
      "\n",
      "See the caveats in the documentation: https://pandas.pydata.org/pandas-docs/stable/user_guide/indexing.html#returning-a-view-versus-a-copy\n",
      "  data_20[\"day\"] = data_20.trip_start_time.dt.date\n"
     ]
    }
   ],
   "source": [
    "data_19 = data2019 #copy the data\n",
    "data_20 = data2020\n",
    "\n",
    "data_19.columns = data_19.columns.str.lower() #rename columns\n",
    "data_20.columns = data_19.columns.str.lower()\n",
    "\n",
    "data_19 = data_19[data_19.stop_id == 17661] #subset for the stop id\n",
    "data_20 = data_20[data_20.stop_id == 17661]\n",
    "\n",
    "data_19.trip_start_time = pd.to_datetime(data_19.trip_start_time) #convert to datetime\n",
    "data_20.trip_start_time = pd.to_datetime(data_20.trip_start_time)\n",
    "\n",
    "data_19[\"day\"] = data_19.trip_start_time.dt.date #extract date\n",
    "data_20[\"day\"] = data_20.trip_start_time.dt.date\n",
    "\n",
    "data_19 = data_19.set_index(\"trip_start_time\") #set index\n",
    "data_20 = data_20.set_index(\"trip_start_time\")"
   ]
  },
  {
   "cell_type": "code",
   "execution_count": 30,
   "id": "3fabc852",
   "metadata": {},
   "outputs": [
    {
     "data": {
      "text/plain": [
       "<AxesSubplot:xlabel='trip_start_time'>"
      ]
     },
     "execution_count": 30,
     "metadata": {},
     "output_type": "execute_result"
    },
    {
     "data": {
      "image/png": "[encoded data removed]",
      "text/plain": [
       "<Figure size 432x288 with 1 Axes>"
      ]
     },
     "metadata": {
      "needs_background": "light"
     },
     "output_type": "display_data"
    }
   ],
   "source": [
    "plt.figure() #plot each with a rolling 14 day mean\n",
    "data_19.resample(\"D\").sum().passengers_on.rolling(14).mean().plot()\n",
    "data_20.resample(\"D\").sum().passengers_on.rolling(14).mean().plot()"
   ]
  },
  {
   "cell_type": "markdown",
   "id": "5f01c427",
   "metadata": {},
   "source": [
    "_**Above:**_ I have selected to use the Syracuse Centro Hub stop for this route, since it sees an overwhelmingly greater amount of passengers than the other stops due in part to the nature of a bus depot. \n",
    "[Transit Hub Bay Stop 17661](https://www.centro.org/docs/default-source/schedule-documents/syracuse-schedules/sy-36.pdf?sfvrsn=66884c9d_40)\n",
    "<br><br><br>\n",
    "_**Hypotheses:**_\n",
    "1. H1: The COVID-19 Pandemic caused the vast majority of people to choose to travel a lot less, meaning fewer people had need to get to the transit hub\n",
    "1. H2: Public transportation availability was lessened as a means of helping to control the developing situations of the summer BLM protests"
   ]
  },
  {
   "cell_type": "markdown",
   "id": "2c12d07f",
   "metadata": {},
   "source": [
    "## Subtask 2.1 (10 pts.)"
   ]
  },
  {
   "cell_type": "markdown",
   "id": "552ee595",
   "metadata": {},
   "source": [
    "_**Links to Source(s) for each Hypothesis:**_\n",
    "\n",
    "- H1: [Global road transport activity was almost 50% below the 2019 average by the end of March 2020](https://www.iea.org/articles/changes-in-transport-behaviour-during-the-covid-19-crisis)\n",
    "<br>\n",
    "- H1: [a growing number of people are opting to avoid public transportation altogether](https://www.theverge.com/2020/3/13/21179032/public-transportation-coronavirus-covid19-ridership-nyc-sf-la-dc)\n",
    "<br> <br>\n",
    "- H2: [Centro will stop running buses at 7:40 p.m. tonight at the Syracuse Transit Hub](syracuse.com/crime/2020/05/centro-bus-service-will-close-early-in-syracuse-to-comply-with-new-curfew-in-onondaga-county.html)"
   ]
  },
  {
   "cell_type": "markdown",
   "id": "c50c916b",
   "metadata": {},
   "source": [
    "## Subtask 2.2 (10 pts.)"
   ]
  },
  {
   "cell_type": "code",
   "execution_count": 31,
   "id": "10d2d15b",
   "metadata": {},
   "outputs": [],
   "source": [
    "weeks_19 = data2019 #copy the data\n",
    "weeks_20 = data2020\n",
    "\n",
    "weeks_19.columns = weeks_19.columns.str.lower() #rename the cols\n",
    "weeks_20.columns = weeks_20.columns.str.lower()\n",
    "\n",
    "weeks_19.trip_start_time = pd.to_datetime(weeks_19.trip_start_time) #convert to datetime\n",
    "weeks_20.trip_start_time = pd.to_datetime(weeks_20.trip_start_time)\n",
    "\n",
    "weeks_19[\"day\"] = weeks_19.trip_start_time.dt.date #extract date\n",
    "weeks_20[\"day\"] = weeks_20.trip_start_time.dt.date\n",
    "\n",
    "weeks_19 = weeks_19.set_index(\"trip_start_time\") #set index\n",
    "weeks_20 = weeks_20.set_index(\"trip_start_time\")"
   ]
  },
  {
   "cell_type": "code",
   "execution_count": 32,
   "id": "cbfa7676",
   "metadata": {},
   "outputs": [
    {
     "data": {
      "text/plain": [
       "array([17661,  3761,   629,  5426,   727,  7866,   885,  7642,   611,\n",
       "       17677])"
      ]
     },
     "metadata": {},
     "output_type": "display_data"
    },
    {
     "data": {
      "text/plain": [
       "array([17661,  3761,   629,  6766, 17676, 14615,   727,  7642,   885,\n",
       "       17823])"
      ]
     },
     "metadata": {},
     "output_type": "display_data"
    }
   ],
   "source": [
    "display(weeks_19.groupby([\"stop_id\"]).resample(\"W\").mean().passengers_on.sort_values(ascending=False).reset_index().stop_id.unique()[0:10])\n",
    "display(weeks_20.groupby([\"stop_id\"]).resample(\"W\").mean().passengers_on.sort_values(ascending=False).reset_index().stop_id.unique()[0:10])"
   ]
  },
  {
   "cell_type": "markdown",
   "id": "f32ba751",
   "metadata": {},
   "source": [
    "_**Above:**_ I wanted to challenge myself to see if I could perform this analysis without saving the intermediate steps. I know it is probably best practice to save as you go into different variables (for readability, reproduceability, etc.); however, I felt that if I could string them all together then I will have demonstrated to myself that I have a firm grasp on these techniques.\n",
    "In terms of the actual code itself, I grouped each by stop id, resampled for a weekly mean, selected the column I wanted and sorted it, reset the index (to access the stop IDs again), selected the stop IDs, and then selected and printed the top 10 unique stop ID numbers.\n",
    "\n",
    "\n",
    "_**Below:**_ The top 10 stops where passengers got on are listed below for each year (the stop ID has been converted to the actual stop location). Of note in 2020 are two examples -- those with the asterisks -- which gained in popularity over the course of the pandemic. Each of these sites housed testing and/or vaccination resources for COIVD-19, each of which are detailed in the links available above. \n",
    "\n",
    "Stop locations are per [Centro Bus Tracker](https://www.centro.org/misc-group/bus-tracker):\n",
    "\n",
    "_2019:_\n",
    "1. Hub Bay\n",
    "1. Camillius Commons\n",
    "1. W Genesee St & Lakeview Ave\n",
    "1. S State St & Harrison St\n",
    "1. W Genesee St & Westlind Rd\n",
    "1. W Genesee St & Milton Ave\n",
    "1. Camillus Village Hall\n",
    "1. N Geddes St & Richmond Ave\n",
    "1. W Genesee St & N Geddes St\n",
    "1. E Washington St & S Warren St\n",
    "<br>\n",
    "\n",
    "_2020:_\n",
    "1. Hub Bay\n",
    "1. Camillius Commons\n",
    "1. W Genesee St & Lakeview Ave\n",
    "1. [S State St & Madison St](https://covid19.ongov.net/appointments/)*\n",
    "1. E Washington St & Market St\n",
    "1. Camillus Commons Lot\n",
    "1. [W Genesee St & Westlind Rd](https://www.syracuse.com/coronavirus/2020/05/how-to-get-a-coronavirus-test-in-syracuse-locations-hours-cost-what-to-bring.html)*\n",
    "1. N Geddes St & Richmond Ave\n",
    "1. Camillus Village Hall\n",
    "1. W Genesee St & Entrance to Camillus Commons"
   ]
  },
  {
   "cell_type": "markdown",
   "id": "41b4e596",
   "metadata": {},
   "source": [
    "# Task 3 (15 pts.)"
   ]
  },
  {
   "cell_type": "code",
   "execution_count": 39,
   "id": "579ea647",
   "metadata": {},
   "outputs": [
    {
     "data": {
      "text/plain": [
       "trip_start_time\n",
       "2019-01-01    136.345\n",
       "2019-01-02    421.777\n",
       "2019-01-03    359.504\n",
       "2019-01-04    356.709\n",
       "2019-01-05    169.325\n",
       "               ...   \n",
       "2019-12-27    441.765\n",
       "2019-12-28    148.107\n",
       "2019-12-29    156.543\n",
       "2019-12-30    429.142\n",
       "2019-12-31    498.647\n",
       "Freq: D, Name: segment_miles, Length: 365, dtype: float64"
      ]
     },
     "metadata": {},
     "output_type": "display_data"
    },
    {
     "data": {
      "image/png": "[encoded data removed]",
      "text/plain": [
       "<Figure size 432x288 with 1 Axes>"
      ]
     },
     "metadata": {
      "needs_background": "light"
     },
     "output_type": "display_data"
    }
   ],
   "source": [
    "dist_2019 = data2019 #copy dataset\n",
    "dist_2019.columns = dist_2019.columns.str.lower() #rename cols\n",
    "dist_2019.trip_start_time = pd.to_datetime(dist_2019.trip_start_time) #convert to datetime\n",
    "dist_2019[\"day\"] = dist_2019.trip_start_time.dt.date #extract day part\n",
    "dist_2019 = dist_2019.set_index(\"trip_start_time\") #set index\n",
    "dist_2019 = dist_2019[dist_2019.day != datetime.date(2020, 1, 1)] #remove outlying date\n",
    "dist_2019.resample(\"D\").sum().segment_miles.rolling(14).mean().plot() #plot rolling mean of daily sum\n",
    "display(dist_2019.resample(\"D\").sum().segment_miles) #print out daily totals"
   ]
  },
  {
   "cell_type": "markdown",
   "id": "de0dfd19",
   "metadata": {},
   "source": [
    "## Subtask 3.1 (10 pts.)"
   ]
  },
  {
   "cell_type": "code",
   "execution_count": 41,
   "id": "702754d2",
   "metadata": {},
   "outputs": [
    {
     "data": {
      "text/plain": [
       "trip_start_time\n",
       "2019-01-31    4330.745571\n",
       "2019-02-28    4071.360429\n",
       "2019-03-31    4577.772857\n",
       "2019-04-30    4785.390000\n",
       "2019-05-31    4699.853571\n",
       "2019-06-30    4354.103571\n",
       "2019-07-31    4833.338143\n",
       "2019-08-31    4964.341286\n",
       "2019-09-30    4595.405571\n",
       "2019-10-31    5009.100429\n",
       "2019-11-30    4388.048571\n",
       "2019-12-31    4642.752429\n",
       "Freq: M, Name: segment_miles, dtype: float64"
      ]
     },
     "execution_count": 41,
     "metadata": {},
     "output_type": "execute_result"
    }
   ],
   "source": [
    "miles = dist_2019.resample(\"M\").sum().segment_miles #get the monthly sum\n",
    "miles*(3/7) #perform scalar multiplication across the series"
   ]
  },
  {
   "cell_type": "code",
   "execution_count": null,
   "id": "4a346ee4",
   "metadata": {},
   "outputs": [],
   "source": []
  }
 ],
 "metadata": {
  "kernelspec": {
   "display_name": "Python 3 (ipykernel)",
   "language": "python",
   "name": "python3"
  },
  "language_info": {
   "codemirror_mode": {
    "name": "ipython",
    "version": 3
   },
   "file_extension": ".py",
   "mimetype": "text/x-python",
   "name": "python",
   "nbconvert_exporter": "python",
   "pygments_lexer": "ipython3",
   "version": "3.9.6"
  }
 },
 "nbformat": 4,
 "nbformat_minor": 5
}
