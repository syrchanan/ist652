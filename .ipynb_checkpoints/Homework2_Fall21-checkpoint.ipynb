{
 "cells": [
  {
   "cell_type": "markdown",
   "id": "27e965dc",
   "metadata": {
    "deletable": false,
    "editable": false,
    "nbgrader": {
     "cell_type": "markdown",
     "checksum": "988ce3e96ec803d5a2011eec45a8de82",
     "grade": false,
     "grade_id": "headercell",
     "locked": true,
     "schema_version": 3,
     "solution": false,
     "task": false
    }
   },
   "source": [
    "## Homework 2 ##"
   ]
  },
  {
   "cell_type": "markdown",
   "id": "e4cb0d89",
   "metadata": {},
   "source": [
    "Student name: Connor Hanan"
   ]
  },
  {
   "cell_type": "markdown",
   "id": "2c07bd58",
   "metadata": {},
   "source": [
    "Assignment submission date: 9/16/21"
   ]
  },
  {
   "cell_type": "markdown",
   "id": "a3c3eb2e",
   "metadata": {
    "deletable": false,
    "editable": false,
    "nbgrader": {
     "cell_type": "markdown",
     "checksum": "0e2169d617fac978d3a54e1ef31a9744",
     "grade": false,
     "grade_id": "topinst",
     "locked": true,
     "schema_version": 3,
     "solution": false,
     "task": false
    }
   },
   "source": [
    "Answer the following problems. Add additional cells as needed."
   ]
  },
  {
   "cell_type": "markdown",
   "id": "8c3bf9a3",
   "metadata": {
    "deletable": false,
    "editable": false,
    "nbgrader": {
     "cell_type": "markdown",
     "checksum": "65558910c03881ee299e22a121bdd11d",
     "grade": false,
     "grade_id": "p1header",
     "locked": true,
     "schema_version": 3,
     "solution": false,
     "task": false
    }
   },
   "source": [
    "### Problem 1 ###"
   ]
  },
  {
   "cell_type": "markdown",
   "id": "4b987fd1",
   "metadata": {
    "deletable": false,
    "editable": false,
    "nbgrader": {
     "cell_type": "markdown",
     "checksum": "ec7552242ce9065a801ac5b84c8765c9",
     "grade": false,
     "grade_id": "p1description",
     "locked": true,
     "schema_version": 3,
     "solution": false,
     "task": false
    }
   },
   "source": [
    "Create a function that takes as input a temperature value in degrees Fahrenheit and converts it to degrees Kelvin. You should research the formula for doing such a conversion. The name you **must** give to the function is *kelvin*. The function must return the temperature value in degrees Kelvin. (40 points)"
   ]
  },
  {
   "cell_type": "code",
   "execution_count": 1,
   "id": "87162169",
   "metadata": {
    "deletable": false,
    "nbgrader": {
     "cell_type": "code",
     "checksum": "7ae7ca09fb1a5710657079a6267f93ef",
     "grade": true,
     "grade_id": "FheitToK",
     "locked": false,
     "points": 40,
     "schema_version": 3,
     "solution": true,
     "task": false
    }
   },
   "outputs": [],
   "source": [
    "# YOUR CODE HERE\n",
    "def kelvin(temp_fahrenheit):\n",
    "    temp_kelvin = (temp_fahrenheit + 459.67)*(5/9)\n",
    "    return temp_kelvin"
   ]
  },
  {
   "cell_type": "code",
   "execution_count": 2,
   "id": "desperate-hypothesis",
   "metadata": {},
   "outputs": [
    {
     "data": {
      "text/plain": [
       "255.37222222222223"
      ]
     },
     "execution_count": 2,
     "metadata": {},
     "output_type": "execute_result"
    }
   ],
   "source": [
    "kelvin(0)"
   ]
  },
  {
   "cell_type": "code",
   "execution_count": 3,
   "id": "passing-twelve",
   "metadata": {},
   "outputs": [
    {
     "data": {
      "text/plain": [
       "0.0"
      ]
     },
     "execution_count": 3,
     "metadata": {},
     "output_type": "execute_result"
    }
   ],
   "source": [
    "kelvin(-459.67)"
   ]
  },
  {
   "cell_type": "code",
   "execution_count": 4,
   "id": "rural-might",
   "metadata": {},
   "outputs": [
    {
     "data": {
      "text/plain": [
       "283.15000000000003"
      ]
     },
     "execution_count": 4,
     "metadata": {},
     "output_type": "execute_result"
    }
   ],
   "source": [
    "kelvin(50)"
   ]
  },
  {
   "cell_type": "code",
   "execution_count": 5,
   "id": "french-operations",
   "metadata": {},
   "outputs": [
    {
     "data": {
      "text/plain": [
       "810.9277777777778"
      ]
     },
     "execution_count": 5,
     "metadata": {},
     "output_type": "execute_result"
    }
   ],
   "source": [
    "kelvin(1000)"
   ]
  },
  {
   "cell_type": "markdown",
   "id": "26b278f0",
   "metadata": {
    "deletable": false,
    "editable": false,
    "nbgrader": {
     "cell_type": "markdown",
     "checksum": "2fd691671d96283f7678717e654fbae1",
     "grade": false,
     "grade_id": "p2header",
     "locked": true,
     "schema_version": 3,
     "solution": false,
     "task": false
    }
   },
   "source": [
    "### Problem 2 ###"
   ]
  },
  {
   "cell_type": "markdown",
   "id": "50efc0f9",
   "metadata": {
    "deletable": false,
    "editable": false,
    "nbgrader": {
     "cell_type": "markdown",
     "checksum": "cb25dd2361179933840ea19935f7d060",
     "grade": false,
     "grade_id": "p2desc",
     "locked": true,
     "schema_version": 3,
     "solution": false,
     "task": false
    }
   },
   "source": [
    "Using the grading table provided in the course syllabus, create a function that takes a 0 to 100 score value and returns the corresponding letter grade. The name you must give to the function is *lettergrade*.   (40 points)"
   ]
  },
  {
   "cell_type": "code",
   "execution_count": 11,
   "id": "462fbdbb",
   "metadata": {
    "deletable": false,
    "nbgrader": {
     "cell_type": "code",
     "checksum": "8f82719dc81fbae662887c9eb0fc157e",
     "grade": true,
     "grade_id": "p2solbyst",
     "locked": false,
     "points": 40,
     "schema_version": 3,
     "solution": true,
     "task": false
    }
   },
   "outputs": [],
   "source": [
    "# YOUR CODE HERE\n",
    "def lettergrade(points_earned):\n",
    "    if points_earned >= 93:\n",
    "        grade = \"A\"\n",
    "    elif points_earned >= 90 and points_earned < 93:\n",
    "        grade = \"A-\"\n",
    "    elif points_earned >= 87 and points_earned < 90:\n",
    "        grade = \"B+\"\n",
    "    elif points_earned >= 83 and points_earned < 87:\n",
    "        grade = \"B\"\n",
    "    elif points_earned >= 80 and points_earned < 83:\n",
    "        grade = \"B-\"\n",
    "    elif points_earned >= 77 and points_earned < 80:\n",
    "        grade = \"C+\"\n",
    "    elif points_earned >= 73 and points_earned < 77:\n",
    "        grade = \"C\"\n",
    "    elif points_earned >= 70 and points_earned < 73:\n",
    "        grade = \"C-\"\n",
    "    elif points_earned >= 0 and points_earned < 70:\n",
    "        grade = \"F\"\n",
    "    else:\n",
    "        grade = \"Invalid Grade. Please enter a point value between 0 and 100.\"\n",
    "        \n",
    "    return grade"
   ]
  },
  {
   "cell_type": "code",
   "execution_count": 13,
   "id": "nervous-brooklyn",
   "metadata": {},
   "outputs": [
    {
     "name": "stdout",
     "output_type": "stream",
     "text": [
      "A\n",
      "A-\n",
      "B+\n",
      "B\n",
      "B-\n",
      "C+\n",
      "C\n",
      "C-\n",
      "F\n",
      "Invalid Grade. Please enter a point value between 0 and 100.\n"
     ]
    }
   ],
   "source": [
    "for points in [95, 91, 87, 85, 81, 79.99, 74.29482, 70, 0, -50]:\n",
    "    print(lettergrade(points))"
   ]
  },
  {
   "cell_type": "markdown",
   "id": "cdb231bb",
   "metadata": {
    "deletable": false,
    "editable": false,
    "nbgrader": {
     "cell_type": "markdown",
     "checksum": "cf23dbbf554371baab40c19ee2507c77",
     "grade": false,
     "grade_id": "p3header",
     "locked": true,
     "schema_version": 3,
     "solution": false,
     "task": false
    }
   },
   "source": [
    "### Problem 3 ###"
   ]
  },
  {
   "cell_type": "markdown",
   "id": "939ca9e8",
   "metadata": {
    "deletable": false,
    "editable": false,
    "nbgrader": {
     "cell_type": "markdown",
     "checksum": "c95579cc7a763b3d19f75a1baa86d3f7",
     "grade": false,
     "grade_id": "p3desc",
     "locked": true,
     "schema_version": 3,
     "solution": false,
     "task": false
    }
   },
   "source": [
    "Create a piece of code that uses a flow control statement (if, for, while) that was not used in the previous problems of this assingment. Explain your code by adding comments to it and/or cells with markdown text as necessary. (20 points)"
   ]
  },
  {
   "cell_type": "code",
   "execution_count": 2,
   "id": "8f5bf9ff",
   "metadata": {
    "deletable": false,
    "nbgrader": {
     "cell_type": "code",
     "checksum": "7ca3489546d15ee32c0d7eb2634a5060",
     "grade": true,
     "grade_id": "p3solbyst",
     "locked": false,
     "points": 20,
     "schema_version": 3,
     "solution": true,
     "task": false
    }
   },
   "outputs": [
    {
     "name": "stdout",
     "output_type": "stream",
     "text": [
      "Guess a number between 1 and 5: 4\n",
      "You lose. Would you like to play again? (y/n): y\n",
      "Guess a number between 1 and 5: 4\n",
      "You lose. Would you like to play again? (y/n): y\n",
      "Guess a number between 1 and 5: 4\n",
      "You lose. Would you like to play again? (y/n): y\n",
      "Guess a number between 1 and 5: 4\n",
      "You lose. Would you like to play again? (y/n): y\n",
      "Guess a number between 1 and 5: 4\n",
      "You win! Would you like to play again? (y/n): n\n"
     ]
    }
   ],
   "source": [
    "# YOUR CODE HERE\n",
    "import random #import randomisation library\n",
    "\n",
    "while True: #begin infinite loop\n",
    "    try: #try input\n",
    "        guess = int(input(\"Guess a number between 1 and 5: \")) #collect input and coerce it as int\n",
    "    except ValueError: #if input isn't a number\n",
    "        print(\"Please enter a numeric value. \") #error message\n",
    "        continue #restart loop\n",
    "        \n",
    "    answer = random.randint(1,5) #pick random int between 1 and 5\n",
    "    \n",
    "    if guess == answer: #if true\n",
    "        response = input(\"You win! Would you like to play again? (y/n): \") #winner and ask for replay\n",
    "    else: #otherwise\n",
    "        response = input(\"You lose. Would you like to play again? (y/n): \") #loser and ask for replay\n",
    "        \n",
    "    if response == \"n\": #if n\n",
    "        break #end loop\n",
    "    elif response == \"y\": #if y\n",
    "        continue #restart loop to play again"
   ]
  }
 ],
 "metadata": {
  "kernelspec": {
   "display_name": "Python 3",
   "language": "python",
   "name": "python3"
  },
  "language_info": {
   "codemirror_mode": {
    "name": "ipython",
    "version": 3
   },
   "file_extension": ".py",
   "mimetype": "text/x-python",
   "name": "python",
   "nbconvert_exporter": "python",
   "pygments_lexer": "ipython3",
   "version": "3.9.7"
  }
 },
 "nbformat": 4,
 "nbformat_minor": 5
}
