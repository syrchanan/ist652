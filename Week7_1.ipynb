{
 "cells": [
  {
   "cell_type": "markdown",
   "id": "english-plastic",
   "metadata": {},
   "source": [
    "## HTML - Web Scraping - Simple example using Pandas"
   ]
  },
  {
   "cell_type": "code",
   "execution_count": null,
   "id": "violent-magnet",
   "metadata": {},
   "outputs": [],
   "source": [
    "#You will likely have to restart your kernel (Jupyter environment) after executing this\n",
    "#To restart the kernel - Go to the \"Kernel\" menu item and click \"Restart\". Note that all your previously\n",
    "#created variables will be removed from memory\n",
    "%pip install lxml"
   ]
  },
  {
   "cell_type": "code",
   "execution_count": null,
   "id": "designing-right",
   "metadata": {},
   "outputs": [],
   "source": [
    "import pandas as pd\n",
    "tables = pd.read_html('fdic_failed_bank_list.html') #Read HTML tables (from the webpage) into a list of DataFrame objects\n",
    "len(tables)   #How many tables are defined in the DOM?  (how many tables are in the document?)"
   ]
  },
  {
   "cell_type": "code",
   "execution_count": null,
   "id": "incomplete-luther",
   "metadata": {},
   "outputs": [],
   "source": [
    "failures = tables[0]\n",
    "failures.head()"
   ]
  },
  {
   "cell_type": "code",
   "execution_count": null,
   "id": "brilliant-mobile",
   "metadata": {},
   "outputs": [],
   "source": [
    "close_timestamps = pd.to_datetime(failures['Closing Date'])\n",
    "close_timestamps.dt.year.value_counts()"
   ]
  },
  {
   "cell_type": "code",
   "execution_count": null,
   "id": "mobile-halifax",
   "metadata": {},
   "outputs": [],
   "source": []
  },
  {
   "cell_type": "code",
   "execution_count": null,
   "id": "internal-rating",
   "metadata": {},
   "outputs": [],
   "source": []
  },
  {
   "cell_type": "code",
   "execution_count": null,
   "id": "perfect-bunch",
   "metadata": {},
   "outputs": [],
   "source": []
  }
 ],
 "metadata": {
  "kernelspec": {
   "display_name": "Python 3 (ipykernel)",
   "language": "python",
   "name": "python3"
  },
  "language_info": {
   "codemirror_mode": {
    "name": "ipython",
    "version": 3
   },
   "file_extension": ".py",
   "mimetype": "text/x-python",
   "name": "python",
   "nbconvert_exporter": "python",
   "pygments_lexer": "ipython3",
   "version": "3.9.6"
  }
 },
 "nbformat": 4,
 "nbformat_minor": 5
}
